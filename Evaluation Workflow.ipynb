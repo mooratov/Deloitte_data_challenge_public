{
 "cells": [
  {
   "cell_type": "markdown",
   "id": "de762c2f-bdca-4410-8da8-740df368f71d",
   "metadata": {},
   "source": [
    "## This is the notebook to use for evaluating a novel dataset. Please replace the randomly sampled dataframe with the test csv"
   ]
  },
  {
   "cell_type": "markdown",
   "id": "714c84d3-e986-4bef-95b8-f38bd41b6595",
   "metadata": {},
   "source": [
    "# 1. Load Data and perform basic operations"
   ]
  },
  {
   "cell_type": "code",
   "execution_count": 2,
   "id": "c5140356-1058-4357-a472-bf1d3fc83cbc",
   "metadata": {},
   "outputs": [],
   "source": [
    "import pandas as pd\n",
    "import numpy as np\n",
    "import matplotlib.pyplot as plt"
   ]
  },
  {
   "cell_type": "code",
   "execution_count": 3,
   "id": "3a450451-3cf4-477b-8afb-fe247bc95ad1",
   "metadata": {},
   "outputs": [],
   "source": [
    "deloitte_data_filename = 'Deloitte_DrugDiscovery_dataset.csv'"
   ]
  },
  {
   "cell_type": "code",
   "execution_count": 4,
   "id": "073a362e-f7e1-4a7d-b1ff-441de267cad3",
   "metadata": {},
   "outputs": [],
   "source": [
    "kiba_df = pd.read_csv(deloitte_data_filename)\n"
   ]
  },
  {
   "cell_type": "code",
   "execution_count": 26,
   "id": "025ae81b-6678-4ce8-89c3-868fe0b50c92",
   "metadata": {},
   "outputs": [],
   "source": [
    "test_df = kiba_df.sample(5000)"
   ]
  },
  {
   "cell_type": "code",
   "execution_count": 27,
   "id": "e278196f-ad1b-4aa7-a3bc-78213fb5f625",
   "metadata": {},
   "outputs": [
    {
     "data": {
      "text/plain": [
       "(5000, 4)"
      ]
     },
     "execution_count": 27,
     "metadata": {},
     "output_type": "execute_result"
    }
   ],
   "source": [
    "test_df.shape"
   ]
  },
  {
   "cell_type": "code",
   "execution_count": 28,
   "id": "dbf7dc2e-eebd-4029-8ac7-37f8962d1210",
   "metadata": {},
   "outputs": [
    {
     "data": {
      "text/html": [
       "<div>\n",
       "<style scoped>\n",
       "    .dataframe tbody tr th:only-of-type {\n",
       "        vertical-align: middle;\n",
       "    }\n",
       "\n",
       "    .dataframe tbody tr th {\n",
       "        vertical-align: top;\n",
       "    }\n",
       "\n",
       "    .dataframe thead th {\n",
       "        text-align: right;\n",
       "    }\n",
       "</style>\n",
       "<table border=\"1\" class=\"dataframe\">\n",
       "  <thead>\n",
       "    <tr style=\"text-align: right;\">\n",
       "      <th></th>\n",
       "      <th>UniProt_ID</th>\n",
       "      <th>pubchem_cid</th>\n",
       "      <th>kiba_score</th>\n",
       "      <th>kiba_score_estimated</th>\n",
       "    </tr>\n",
       "  </thead>\n",
       "  <tbody>\n",
       "    <tr>\n",
       "      <th>360586</th>\n",
       "      <td>P13866</td>\n",
       "      <td>71454962.0</td>\n",
       "      <td>88.90</td>\n",
       "      <td>True</td>\n",
       "    </tr>\n",
       "    <tr>\n",
       "      <th>536177</th>\n",
       "      <td>P29274</td>\n",
       "      <td>162647388.0</td>\n",
       "      <td>149.00</td>\n",
       "      <td>True</td>\n",
       "    </tr>\n",
       "    <tr>\n",
       "      <th>826911</th>\n",
       "      <td>P56817</td>\n",
       "      <td>58197275.0</td>\n",
       "      <td>760.00</td>\n",
       "      <td>True</td>\n",
       "    </tr>\n",
       "    <tr>\n",
       "      <th>1086350</th>\n",
       "      <td>Q9NYW2</td>\n",
       "      <td>53374185.0</td>\n",
       "      <td>38.80</td>\n",
       "      <td>True</td>\n",
       "    </tr>\n",
       "    <tr>\n",
       "      <th>372934</th>\n",
       "      <td>P14920</td>\n",
       "      <td>117693422.0</td>\n",
       "      <td>6.21</td>\n",
       "      <td>True</td>\n",
       "    </tr>\n",
       "  </tbody>\n",
       "</table>\n",
       "</div>"
      ],
      "text/plain": [
       "        UniProt_ID  pubchem_cid  kiba_score kiba_score_estimated\n",
       "360586      P13866   71454962.0       88.90                 True\n",
       "536177      P29274  162647388.0      149.00                 True\n",
       "826911      P56817   58197275.0      760.00                 True\n",
       "1086350     Q9NYW2   53374185.0       38.80                 True\n",
       "372934      P14920  117693422.0        6.21                 True"
      ]
     },
     "execution_count": 28,
     "metadata": {},
     "output_type": "execute_result"
    }
   ],
   "source": [
    "test_df.head()"
   ]
  },
  {
   "cell_type": "markdown",
   "id": "088ae3e8-155d-4307-b6e8-1b8a999d92a9",
   "metadata": {},
   "source": [
    "## replace test_df with a proper evaluation set!"
   ]
  },
  {
   "cell_type": "markdown",
   "id": "fa5dab8e-ccd1-4c4a-954a-c9e8774338f3",
   "metadata": {},
   "source": [
    "### drop any rows with NA's - not too many"
   ]
  },
  {
   "cell_type": "code",
   "execution_count": 29,
   "id": "be3ac8d4-2396-4f36-a0b0-6cf3f9bd736d",
   "metadata": {},
   "outputs": [],
   "source": [
    "test_df = test_df.dropna()\n",
    "# i hope the test set won't have any NAs "
   ]
  },
  {
   "cell_type": "markdown",
   "id": "912514d6-3636-40e1-bfa1-3d841574530e",
   "metadata": {},
   "source": [
    "### for any cases where same UniProtID and pubchem_cid is associated with multiple kiba scores, lets take the mean"
   ]
  },
  {
   "cell_type": "code",
   "execution_count": 30,
   "id": "a6f4b241-e4a1-4889-b493-bbe52f4f9eb5",
   "metadata": {},
   "outputs": [],
   "source": [
    "# test_df = test_df.groupby(['UniProt_ID', 'pubchem_cid'], as_index=False).mean() \n",
    "# skip this test in test mode"
   ]
  },
  {
   "cell_type": "code",
   "execution_count": 31,
   "id": "add8a547-9a37-47fa-b0fe-e0615c86830a",
   "metadata": {},
   "outputs": [
    {
     "data": {
      "text/plain": [
       "(4827, 4)"
      ]
     },
     "execution_count": 31,
     "metadata": {},
     "output_type": "execute_result"
    }
   ],
   "source": [
    "test_df.shape"
   ]
  },
  {
   "cell_type": "code",
   "execution_count": 32,
   "id": "d8f224d5-a1fa-487a-943f-ab5b15e3ba9b",
   "metadata": {},
   "outputs": [
    {
     "data": {
      "text/html": [
       "<div>\n",
       "<style scoped>\n",
       "    .dataframe tbody tr th:only-of-type {\n",
       "        vertical-align: middle;\n",
       "    }\n",
       "\n",
       "    .dataframe tbody tr th {\n",
       "        vertical-align: top;\n",
       "    }\n",
       "\n",
       "    .dataframe thead th {\n",
       "        text-align: right;\n",
       "    }\n",
       "</style>\n",
       "<table border=\"1\" class=\"dataframe\">\n",
       "  <thead>\n",
       "    <tr style=\"text-align: right;\">\n",
       "      <th></th>\n",
       "      <th>UniProt_ID</th>\n",
       "      <th>pubchem_cid</th>\n",
       "      <th>kiba_score</th>\n",
       "      <th>kiba_score_estimated</th>\n",
       "    </tr>\n",
       "  </thead>\n",
       "  <tbody>\n",
       "    <tr>\n",
       "      <th>360586</th>\n",
       "      <td>P13866</td>\n",
       "      <td>71454962.0</td>\n",
       "      <td>88.90</td>\n",
       "      <td>True</td>\n",
       "    </tr>\n",
       "    <tr>\n",
       "      <th>536177</th>\n",
       "      <td>P29274</td>\n",
       "      <td>162647388.0</td>\n",
       "      <td>149.00</td>\n",
       "      <td>True</td>\n",
       "    </tr>\n",
       "    <tr>\n",
       "      <th>826911</th>\n",
       "      <td>P56817</td>\n",
       "      <td>58197275.0</td>\n",
       "      <td>760.00</td>\n",
       "      <td>True</td>\n",
       "    </tr>\n",
       "    <tr>\n",
       "      <th>1086350</th>\n",
       "      <td>Q9NYW2</td>\n",
       "      <td>53374185.0</td>\n",
       "      <td>38.80</td>\n",
       "      <td>True</td>\n",
       "    </tr>\n",
       "    <tr>\n",
       "      <th>372934</th>\n",
       "      <td>P14920</td>\n",
       "      <td>117693422.0</td>\n",
       "      <td>6.21</td>\n",
       "      <td>True</td>\n",
       "    </tr>\n",
       "  </tbody>\n",
       "</table>\n",
       "</div>"
      ],
      "text/plain": [
       "        UniProt_ID  pubchem_cid  kiba_score kiba_score_estimated\n",
       "360586      P13866   71454962.0       88.90                 True\n",
       "536177      P29274  162647388.0      149.00                 True\n",
       "826911      P56817   58197275.0      760.00                 True\n",
       "1086350     Q9NYW2   53374185.0       38.80                 True\n",
       "372934      P14920  117693422.0        6.21                 True"
      ]
     },
     "execution_count": 32,
     "metadata": {},
     "output_type": "execute_result"
    }
   ],
   "source": [
    "test_df.head()"
   ]
  },
  {
   "cell_type": "code",
   "execution_count": 33,
   "id": "f90a3622-d61e-475c-ac1c-6f286978660a",
   "metadata": {},
   "outputs": [],
   "source": [
    "unique_protein_ids = test_df.UniProt_ID.unique().tolist()"
   ]
  },
  {
   "cell_type": "code",
   "execution_count": 34,
   "id": "3027783c-bb72-4844-90b3-a385ea60dff2",
   "metadata": {},
   "outputs": [
    {
     "data": {
      "text/plain": [
       "1225"
      ]
     },
     "execution_count": 34,
     "metadata": {},
     "output_type": "execute_result"
    }
   ],
   "source": [
    "len(unique_protein_ids)"
   ]
  },
  {
   "cell_type": "code",
   "execution_count": 35,
   "id": "a79c87f5-88c6-4126-b482-c370873606f9",
   "metadata": {},
   "outputs": [],
   "source": [
    "unique_chemical_ids = test_df.pubchem_cid.unique().astype(int).astype(str).tolist()"
   ]
  },
  {
   "cell_type": "code",
   "execution_count": 36,
   "id": "c7d2556c-1c1c-431d-9bca-c7b3ccb8bd3d",
   "metadata": {},
   "outputs": [
    {
     "data": {
      "text/plain": [
       "4754"
      ]
     },
     "execution_count": 36,
     "metadata": {},
     "output_type": "execute_result"
    }
   ],
   "source": [
    "len(unique_chemical_ids)"
   ]
  },
  {
   "cell_type": "markdown",
   "id": "9b4f97f1-20ff-4139-a694-8563944e3bb8",
   "metadata": {},
   "source": [
    "# 2. Query useful features from pubchem "
   ]
  },
  {
   "cell_type": "code",
   "execution_count": 37,
   "id": "39ee68fa-771c-499d-9fd8-97c428db25d8",
   "metadata": {},
   "outputs": [],
   "source": [
    "import requests\n",
    "from io import StringIO\n",
    "import xml.etree.ElementTree as ET\n"
   ]
  },
  {
   "cell_type": "markdown",
   "id": "db85880e-c889-45f1-8376-34f9cff5ccae",
   "metadata": {},
   "source": [
    "First, we put together a list of potentially useful features. I dug up the pubchem API and basically looked at all available numerical features that seem useful, as well as CanonicalSMILES. I kind of forgot molecular weight, but there are several other features that convey the same thing (i.e. ExactMAss)"
   ]
  },
  {
   "cell_type": "code",
   "execution_count": 38,
   "id": "e16a1ff7-028e-4179-9bf5-87fd3e1110c0",
   "metadata": {},
   "outputs": [],
   "source": [
    "\n",
    "needed_props = ['CanonicalSMILES','XLogP',\n",
    "       'ExactMass', 'MonoisotopicMass', 'TPSA', 'Complexity', 'Charge',\n",
    "       'HBondDonorCount', 'HBondAcceptorCount', 'RotatableBondCount',\n",
    "       'HeavyAtomCount', 'IsotopeAtomCount', 'AtomStereoCount',\n",
    "       'DefinedAtomStereoCount', 'UndefinedAtomStereoCount', 'BondStereoCount',\n",
    "       'DefinedBondStereoCount', 'UndefinedBondStereoCount',\n",
    "       'CovalentUnitCount', 'PatentCount', 'PatentFamilyCount',\n",
    "       'LiteratureCount', 'Volume3D', 'XStericQuadrupole3D',\n",
    "       'YStericQuadrupole3D', 'ZStericQuadrupole3D', 'FeatureCount3D',\n",
    "       'FeatureAcceptorCount3D', 'FeatureDonorCount3D', 'FeatureAnionCount3D',\n",
    "       'FeatureCationCount3D', 'FeatureRingCount3D',\n",
    "       'FeatureHydrophobeCount3D', 'ConformerModelRMSD3D',\n",
    "       'EffectiveRotorCount3D', 'ConformerCount3D']"
   ]
  },
  {
   "cell_type": "markdown",
   "id": "79aaf7d2-efb7-430f-aec3-e27d8303442b",
   "metadata": {},
   "source": [
    "### this function returns a list of query results from pubchem db RATE_LIMIT entries at a time. I found that I needed to query chem IDS in batches, as otherwise the URL would be too long.\n",
    "\n",
    "### even still, for all 600k+ chem IDs I need to query, this function took a few hours to run. "
   ]
  },
  {
   "cell_type": "code",
   "execution_count": 45,
   "id": "723a4d65-5b62-438e-bee6-acb16e1aa05a",
   "metadata": {},
   "outputs": [],
   "source": [
    "def return_pubchem_features_listkey(props, chem_ids):\n",
    "    # https://pubchem.ncbi.nlm.nih.gov/docs/pug-rest#section=Synonyms\n",
    "    RATE_LIMIT = 400\n",
    "    total_features = []\n",
    "    for i in range(len(chem_ids)//RATE_LIMIT + 1):\n",
    "        print(f'doing nums {i*RATE_LIMIT} to {(i+1)*RATE_LIMIT}')\n",
    "        start_range = i*RATE_LIMIT\n",
    "        end_range = min([(i+1)*RATE_LIMIT, len(chem_ids)])\n",
    "        url = f'https://pubchem.ncbi.nlm.nih.gov/rest/pug/compound/cid/{','.join(chem_ids[start_range:end_range])}/cids/XML?list_return=listkey'\n",
    "        response = requests.post(url)\n",
    "        print('response: ',response)\n",
    "        root = ET.fromstring(response.text)\n",
    "        \n",
    "        \n",
    "        # Define the namespace\n",
    "        namespace = {\"ns\": \"http://pubchem.ncbi.nlm.nih.gov/pug_rest\"}\n",
    "        \n",
    "        # Find and retrieve the ListKey value\n",
    "        listkey = root.find(\"ns:ListKey\", namespaces=namespace).text\n",
    "        print(\"ListKey:\", listkey)\n",
    "        property_url = f\"https://pubchem.ncbi.nlm.nih.gov/rest/pug/compound/listkey/{listkey}/property/{props}/CSV\"\n",
    "        \n",
    "        # Make a GET request to retrieve the properties\n",
    "        property_response = requests.get(property_url)\n",
    "        print('property response: ',property_response)\n",
    "        features = pd.read_csv(StringIO(property_response.text))\n",
    "        total_features.append(features)\n",
    "        #time.sleep(1)\n",
    "    return total_features"
   ]
  },
  {
   "cell_type": "code",
   "execution_count": 46,
   "id": "b7e66620-c1b4-4af9-825d-c9698654519c",
   "metadata": {},
   "outputs": [
    {
     "name": "stdout",
     "output_type": "stream",
     "text": [
      "doing nums 0 to 400\n",
      "response:  <Response [200]>\n",
      "ListKey: 2292000322943216395\n",
      "property response:  <Response [200]>\n",
      "doing nums 400 to 800\n",
      "response:  <Response [200]>\n",
      "ListKey: 3068624566235416437\n",
      "property response:  <Response [200]>\n",
      "doing nums 800 to 1200\n",
      "response:  <Response [200]>\n",
      "ListKey: 3533008235948766268\n",
      "property response:  <Response [200]>\n",
      "doing nums 1200 to 1600\n",
      "response:  <Response [200]>\n",
      "ListKey: 2746745876981508978\n",
      "property response:  <Response [200]>\n",
      "doing nums 1600 to 2000\n",
      "response:  <Response [200]>\n",
      "ListKey: 1654947154035404836\n",
      "property response:  <Response [200]>\n",
      "doing nums 2000 to 2400\n",
      "response:  <Response [200]>\n",
      "ListKey: 1777772352588886156\n",
      "property response:  <Response [200]>\n",
      "doing nums 2400 to 2800\n",
      "response:  <Response [200]>\n",
      "ListKey: 4587142669344764766\n",
      "property response:  <Response [200]>\n",
      "doing nums 2800 to 3200\n",
      "response:  <Response [200]>\n",
      "ListKey: 1006199621158684614\n",
      "property response:  <Response [200]>\n",
      "doing nums 3200 to 3600\n",
      "response:  <Response [200]>\n",
      "ListKey: 3619321817751853431\n",
      "property response:  <Response [200]>\n",
      "doing nums 3600 to 4000\n",
      "response:  <Response [200]>\n",
      "ListKey: 3400308545219786611\n",
      "property response:  <Response [200]>\n",
      "doing nums 4000 to 4400\n",
      "response:  <Response [200]>\n",
      "ListKey: 3483654705535616432\n",
      "property response:  <Response [200]>\n",
      "doing nums 4400 to 4800\n",
      "response:  <Response [200]>\n",
      "ListKey: 4061285339850062718\n",
      "property response:  <Response [200]>\n"
     ]
    }
   ],
   "source": [
    "chem_features_queried = return_pubchem_features_listkey(','.join(needed_props), unique_chemical_ids)"
   ]
  },
  {
   "cell_type": "code",
   "execution_count": 47,
   "id": "b0d9782c-41d8-4982-a92c-ff2f4a736528",
   "metadata": {},
   "outputs": [],
   "source": [
    "chem_features_df = pd.concat(chem_features_queried)"
   ]
  },
  {
   "cell_type": "code",
   "execution_count": 48,
   "id": "ae546e9c-9396-48ca-87b1-067e3ad84eca",
   "metadata": {},
   "outputs": [
    {
     "data": {
      "text/html": [
       "<div>\n",
       "<style scoped>\n",
       "    .dataframe tbody tr th:only-of-type {\n",
       "        vertical-align: middle;\n",
       "    }\n",
       "\n",
       "    .dataframe tbody tr th {\n",
       "        vertical-align: top;\n",
       "    }\n",
       "\n",
       "    .dataframe thead th {\n",
       "        text-align: right;\n",
       "    }\n",
       "</style>\n",
       "<table border=\"1\" class=\"dataframe\">\n",
       "  <thead>\n",
       "    <tr style=\"text-align: right;\">\n",
       "      <th></th>\n",
       "      <th>CID</th>\n",
       "      <th>CanonicalSMILES</th>\n",
       "      <th>XLogP</th>\n",
       "      <th>ExactMass</th>\n",
       "      <th>MonoisotopicMass</th>\n",
       "      <th>TPSA</th>\n",
       "      <th>Complexity</th>\n",
       "      <th>Charge</th>\n",
       "      <th>HBondDonorCount</th>\n",
       "      <th>HBondAcceptorCount</th>\n",
       "      <th>...</th>\n",
       "      <th>FeatureCount3D</th>\n",
       "      <th>FeatureAcceptorCount3D</th>\n",
       "      <th>FeatureDonorCount3D</th>\n",
       "      <th>FeatureAnionCount3D</th>\n",
       "      <th>FeatureCationCount3D</th>\n",
       "      <th>FeatureRingCount3D</th>\n",
       "      <th>FeatureHydrophobeCount3D</th>\n",
       "      <th>ConformerModelRMSD3D</th>\n",
       "      <th>EffectiveRotorCount3D</th>\n",
       "      <th>ConformerCount3D</th>\n",
       "    </tr>\n",
       "  </thead>\n",
       "  <tbody>\n",
       "    <tr>\n",
       "      <th>0</th>\n",
       "      <td>71454962</td>\n",
       "      <td>CCC1=CC=C(C=C1)CC2=C(NN=C2OC3C(C(C(C(O3)CO)O)O...</td>\n",
       "      <td>2.3</td>\n",
       "      <td>406.210387</td>\n",
       "      <td>406.210387</td>\n",
       "      <td>128.0</td>\n",
       "      <td>502.0</td>\n",
       "      <td>0</td>\n",
       "      <td>5</td>\n",
       "      <td>7</td>\n",
       "      <td>...</td>\n",
       "      <td>15.0</td>\n",
       "      <td>5.0</td>\n",
       "      <td>5.0</td>\n",
       "      <td>0.0</td>\n",
       "      <td>0.0</td>\n",
       "      <td>3.0</td>\n",
       "      <td>2.0</td>\n",
       "      <td>1.0</td>\n",
       "      <td>8.2</td>\n",
       "      <td>10</td>\n",
       "    </tr>\n",
       "    <tr>\n",
       "      <th>1</th>\n",
       "      <td>162647388</td>\n",
       "      <td>CN1C=C2C(=N1)N=C(N3C2=NC(=N3)C4=CC=CO4)NC(=O)N...</td>\n",
       "      <td>3.6</td>\n",
       "      <td>1024.317388</td>\n",
       "      <td>1024.317388</td>\n",
       "      <td>309.0</td>\n",
       "      <td>2060.0</td>\n",
       "      <td>0</td>\n",
       "      <td>6</td>\n",
       "      <td>17</td>\n",
       "      <td>...</td>\n",
       "      <td>NaN</td>\n",
       "      <td>NaN</td>\n",
       "      <td>NaN</td>\n",
       "      <td>NaN</td>\n",
       "      <td>NaN</td>\n",
       "      <td>NaN</td>\n",
       "      <td>NaN</td>\n",
       "      <td>NaN</td>\n",
       "      <td>NaN</td>\n",
       "      <td>0</td>\n",
       "    </tr>\n",
       "    <tr>\n",
       "      <th>2</th>\n",
       "      <td>58197275</td>\n",
       "      <td>COC1CCC2(CC1)CC3=C(C24CCSC(=N4)N)C=C(C=C3)Br</td>\n",
       "      <td>3.6</td>\n",
       "      <td>394.071450</td>\n",
       "      <td>394.071450</td>\n",
       "      <td>72.9</td>\n",
       "      <td>491.0</td>\n",
       "      <td>0</td>\n",
       "      <td>1</td>\n",
       "      <td>3</td>\n",
       "      <td>...</td>\n",
       "      <td>8.0</td>\n",
       "      <td>1.0</td>\n",
       "      <td>1.0</td>\n",
       "      <td>0.0</td>\n",
       "      <td>1.0</td>\n",
       "      <td>4.0</td>\n",
       "      <td>1.0</td>\n",
       "      <td>0.6</td>\n",
       "      <td>2.8</td>\n",
       "      <td>10</td>\n",
       "    </tr>\n",
       "    <tr>\n",
       "      <th>3</th>\n",
       "      <td>53374185</td>\n",
       "      <td>CC1=C(C(=NO1)C)CN2C=C(C=N2)N3C(=O)C(N(C3=O)CC4...</td>\n",
       "      <td>1.8</td>\n",
       "      <td>418.175339</td>\n",
       "      <td>418.175339</td>\n",
       "      <td>108.0</td>\n",
       "      <td>764.0</td>\n",
       "      <td>0</td>\n",
       "      <td>0</td>\n",
       "      <td>6</td>\n",
       "      <td>...</td>\n",
       "      <td>10.0</td>\n",
       "      <td>5.0</td>\n",
       "      <td>0.0</td>\n",
       "      <td>0.0</td>\n",
       "      <td>0.0</td>\n",
       "      <td>4.0</td>\n",
       "      <td>1.0</td>\n",
       "      <td>1.0</td>\n",
       "      <td>5.6</td>\n",
       "      <td>10</td>\n",
       "    </tr>\n",
       "    <tr>\n",
       "      <th>4</th>\n",
       "      <td>117693422</td>\n",
       "      <td>CC(C)(C)C1=CC=C(C=C1)CCC2=CC(=O)C(=O)NN2</td>\n",
       "      <td>3.5</td>\n",
       "      <td>272.152478</td>\n",
       "      <td>272.152478</td>\n",
       "      <td>58.2</td>\n",
       "      <td>413.0</td>\n",
       "      <td>0</td>\n",
       "      <td>2</td>\n",
       "      <td>3</td>\n",
       "      <td>...</td>\n",
       "      <td>7.0</td>\n",
       "      <td>2.0</td>\n",
       "      <td>2.0</td>\n",
       "      <td>0.0</td>\n",
       "      <td>0.0</td>\n",
       "      <td>2.0</td>\n",
       "      <td>1.0</td>\n",
       "      <td>0.6</td>\n",
       "      <td>4.0</td>\n",
       "      <td>10</td>\n",
       "    </tr>\n",
       "  </tbody>\n",
       "</table>\n",
       "<p>5 rows × 37 columns</p>\n",
       "</div>"
      ],
      "text/plain": [
       "         CID                                    CanonicalSMILES  XLogP  \\\n",
       "0   71454962  CCC1=CC=C(C=C1)CC2=C(NN=C2OC3C(C(C(C(O3)CO)O)O...    2.3   \n",
       "1  162647388  CN1C=C2C(=N1)N=C(N3C2=NC(=N3)C4=CC=CO4)NC(=O)N...    3.6   \n",
       "2   58197275       COC1CCC2(CC1)CC3=C(C24CCSC(=N4)N)C=C(C=C3)Br    3.6   \n",
       "3   53374185  CC1=C(C(=NO1)C)CN2C=C(C=N2)N3C(=O)C(N(C3=O)CC4...    1.8   \n",
       "4  117693422           CC(C)(C)C1=CC=C(C=C1)CCC2=CC(=O)C(=O)NN2    3.5   \n",
       "\n",
       "     ExactMass  MonoisotopicMass   TPSA  Complexity  Charge  HBondDonorCount  \\\n",
       "0   406.210387        406.210387  128.0       502.0       0                5   \n",
       "1  1024.317388       1024.317388  309.0      2060.0       0                6   \n",
       "2   394.071450        394.071450   72.9       491.0       0                1   \n",
       "3   418.175339        418.175339  108.0       764.0       0                0   \n",
       "4   272.152478        272.152478   58.2       413.0       0                2   \n",
       "\n",
       "   HBondAcceptorCount  ...  FeatureCount3D  FeatureAcceptorCount3D  \\\n",
       "0                   7  ...            15.0                     5.0   \n",
       "1                  17  ...             NaN                     NaN   \n",
       "2                   3  ...             8.0                     1.0   \n",
       "3                   6  ...            10.0                     5.0   \n",
       "4                   3  ...             7.0                     2.0   \n",
       "\n",
       "   FeatureDonorCount3D  FeatureAnionCount3D  FeatureCationCount3D  \\\n",
       "0                  5.0                  0.0                   0.0   \n",
       "1                  NaN                  NaN                   NaN   \n",
       "2                  1.0                  0.0                   1.0   \n",
       "3                  0.0                  0.0                   0.0   \n",
       "4                  2.0                  0.0                   0.0   \n",
       "\n",
       "   FeatureRingCount3D  FeatureHydrophobeCount3D  ConformerModelRMSD3D  \\\n",
       "0                 3.0                       2.0                   1.0   \n",
       "1                 NaN                       NaN                   NaN   \n",
       "2                 4.0                       1.0                   0.6   \n",
       "3                 4.0                       1.0                   1.0   \n",
       "4                 2.0                       1.0                   0.6   \n",
       "\n",
       "   EffectiveRotorCount3D  ConformerCount3D  \n",
       "0                    8.2                10  \n",
       "1                    NaN                 0  \n",
       "2                    2.8                10  \n",
       "3                    5.6                10  \n",
       "4                    4.0                10  \n",
       "\n",
       "[5 rows x 37 columns]"
      ]
     },
     "execution_count": 48,
     "metadata": {},
     "output_type": "execute_result"
    }
   ],
   "source": [
    "chem_features_df.head()"
   ]
  },
  {
   "cell_type": "code",
   "execution_count": 51,
   "id": "909f4520-2938-4fe3-adc4-9f85ed2f25b6",
   "metadata": {},
   "outputs": [],
   "source": [
    "# if there is a timeout, you get this funky thing happen\n",
    "if 'Status: 504' in chem_features_df.columns:\n",
    "    chem_features_df = chem_features_df.drop(columns=['Status: 504'])"
   ]
  },
  {
   "cell_type": "code",
   "execution_count": 50,
   "id": "7fda4781-2aa0-4e79-b7d6-b86082fd279a",
   "metadata": {},
   "outputs": [
    {
     "data": {
      "text/plain": [
       "(4754, 37)"
      ]
     },
     "execution_count": 50,
     "metadata": {},
     "output_type": "execute_result"
    }
   ],
   "source": [
    "chem_features_df.shape"
   ]
  },
  {
   "cell_type": "markdown",
   "id": "8d41f2b1-78cc-47a1-ba2b-22e11e57c58f",
   "metadata": {},
   "source": [
    "### in the end, i did not end up using a version of my workflow where i attempted to extract additional features from CanonicalSMILES - it was just too slow on my laptop"
   ]
  },
  {
   "cell_type": "code",
   "execution_count": 52,
   "id": "6aee69d2-8961-4dbd-90e9-82d880b95cff",
   "metadata": {},
   "outputs": [],
   "source": [
    "chem_features_df = chem_features_df.drop(columns=['CanonicalSMILES'])"
   ]
  },
  {
   "cell_type": "code",
   "execution_count": 53,
   "id": "7daa89c6-9891-4cb7-a864-9b3886eeb203",
   "metadata": {},
   "outputs": [
    {
     "data": {
      "text/plain": [
       "(4754, 36)"
      ]
     },
     "execution_count": 53,
     "metadata": {},
     "output_type": "execute_result"
    }
   ],
   "source": [
    "chem_features_df.shape"
   ]
  },
  {
   "cell_type": "markdown",
   "id": "9787a8eb-681e-43d9-bbde-30370d72c4d6",
   "metadata": {},
   "source": [
    "# 3. Query protein DB and obtain additional protein features from sequence"
   ]
  },
  {
   "cell_type": "markdown",
   "id": "296e5381-3919-43d9-94ea-762c8fb8f92d",
   "metadata": {},
   "source": [
    "Needed a slightly different strategy for querying proteins. I decided to get the sequence, mass, length, annotation score and feature count"
   ]
  },
  {
   "cell_type": "code",
   "execution_count": 54,
   "id": "4c13ed06-a5b9-478d-8129-8638f88b4087",
   "metadata": {},
   "outputs": [],
   "source": [
    "def query_uniprot_features(uniprot_ids):\n",
    "    # Join IDs into a single query string\n",
    "    query = \" OR \".join(uniprot_ids)\n",
    "    \n",
    "    # Define the UniProt API endpoint\n",
    "    url = \"https://rest.uniprot.org/uniprotkb/search\"\n",
    "    \n",
    "    # Define the fields you want to retrieve\n",
    "    fields = \"mass,sequence,length,feature_count,annotation_score\"\n",
    "    \n",
    "    # Parameters for the API call\n",
    "    params = {\n",
    "        \"query\": query,\n",
    "        \"fields\": fields,\n",
    "        \"format\": \"json\",\n",
    "        \"size\": len(uniprot_ids)  # Number of records to return\n",
    "    }\n",
    "    \n",
    "    # Make the API request\n",
    "    response = requests.get(url, params=params)\n",
    "    response.raise_for_status()\n",
    "    # Print the response JSON to check its structure\n",
    "\n",
    "# Print the columns in the DataFrame\n",
    "    # Parse JSON response into a DataFrame\n",
    "    data = response.json()[\"results\"]\n",
    "    df = pd.json_normalize(data)\n",
    "    # Optional: Rename columns for easier readability\n",
    "    \n",
    "    return df"
   ]
  },
  {
   "cell_type": "markdown",
   "id": "6a24ce2d-faed-4662-bf56-58a0308bd3be",
   "metadata": {},
   "source": [
    "Once again, in order to avoid slamming the server we have to do it a little bit at a time. This function just calls the above one for 100 proteins at a time"
   ]
  },
  {
   "cell_type": "code",
   "execution_count": 55,
   "id": "33095782-bef2-4a9a-b692-50d583310e54",
   "metadata": {},
   "outputs": [],
   "source": [
    "def return_uniprot_features(prot_ids):\n",
    "    RATE_LIMIT = 100\n",
    "    total_features = []\n",
    "    for i in range(len(prot_ids)//RATE_LIMIT + 1):\n",
    "        print(f'doing nums {i*RATE_LIMIT} to {(i+1)*RATE_LIMIT}')\n",
    "        start_range = i*RATE_LIMIT\n",
    "        end_range = min([(i+1)*RATE_LIMIT, len(prot_ids)])\n",
    "        features = query_uniprot_features(prot_ids[start_range:end_range])\n",
    "        total_features.append(features)\n",
    "    return total_features"
   ]
  },
  {
   "cell_type": "code",
   "execution_count": 56,
   "id": "dbd9348c-c684-4589-8ce9-e116f56d0717",
   "metadata": {},
   "outputs": [
    {
     "name": "stdout",
     "output_type": "stream",
     "text": [
      "doing nums 0 to 100\n",
      "doing nums 100 to 200\n",
      "doing nums 200 to 300\n",
      "doing nums 300 to 400\n",
      "doing nums 400 to 500\n",
      "doing nums 500 to 600\n",
      "doing nums 600 to 700\n",
      "doing nums 700 to 800\n",
      "doing nums 800 to 900\n",
      "doing nums 900 to 1000\n",
      "doing nums 1000 to 1100\n",
      "doing nums 1100 to 1200\n",
      "doing nums 1200 to 1300\n"
     ]
    }
   ],
   "source": [
    "prot_features = return_uniprot_features(unique_protein_ids)"
   ]
  },
  {
   "cell_type": "code",
   "execution_count": 57,
   "id": "a6b4026a-6ae9-4e6d-a1e9-935796d9922d",
   "metadata": {},
   "outputs": [],
   "source": [
    "prot_features_df = pd.concat(prot_features)"
   ]
  },
  {
   "cell_type": "code",
   "execution_count": 58,
   "id": "5ad0c7b1-1b52-4cdf-b52b-747310072c3a",
   "metadata": {},
   "outputs": [
    {
     "data": {
      "text/html": [
       "<div>\n",
       "<style scoped>\n",
       "    .dataframe tbody tr th:only-of-type {\n",
       "        vertical-align: middle;\n",
       "    }\n",
       "\n",
       "    .dataframe tbody tr th {\n",
       "        vertical-align: top;\n",
       "    }\n",
       "\n",
       "    .dataframe thead th {\n",
       "        text-align: right;\n",
       "    }\n",
       "</style>\n",
       "<table border=\"1\" class=\"dataframe\">\n",
       "  <thead>\n",
       "    <tr style=\"text-align: right;\">\n",
       "      <th></th>\n",
       "      <th>entryType</th>\n",
       "      <th>primaryAccession</th>\n",
       "      <th>annotationScore</th>\n",
       "      <th>sequence.value</th>\n",
       "      <th>sequence.length</th>\n",
       "      <th>sequence.molWeight</th>\n",
       "      <th>sequence.crc64</th>\n",
       "      <th>sequence.md5</th>\n",
       "      <th>extraAttributes.countByFeatureType.Chain</th>\n",
       "      <th>extraAttributes.countByFeatureType.Topological domain</th>\n",
       "      <th>...</th>\n",
       "      <th>extraAttributes.countByFeatureType.Compositional bias</th>\n",
       "      <th>extraAttributes.countByFeatureType.Propeptide</th>\n",
       "      <th>extraAttributes.countByFeatureType.Site</th>\n",
       "      <th>extraAttributes.countByFeatureType.Intramembrane</th>\n",
       "      <th>extraAttributes.countByFeatureType.Zinc finger</th>\n",
       "      <th>extraAttributes.countByFeatureType.Repeat</th>\n",
       "      <th>extraAttributes.countByFeatureType.Transit peptide</th>\n",
       "      <th>extraAttributes.countByFeatureType.DNA binding</th>\n",
       "      <th>extraAttributes.countByFeatureType.Peptide</th>\n",
       "      <th>extraAttributes.countByFeatureType.Non-terminal residue</th>\n",
       "    </tr>\n",
       "  </thead>\n",
       "  <tbody>\n",
       "    <tr>\n",
       "      <th>0</th>\n",
       "      <td>UniProtKB reviewed (Swiss-Prot)</td>\n",
       "      <td>P29274</td>\n",
       "      <td>5.0</td>\n",
       "      <td>MPIMGSSVYITVELAIAVLAILGNVLVCWAVWLNSNLQNVTNYFVV...</td>\n",
       "      <td>412</td>\n",
       "      <td>44707</td>\n",
       "      <td>9438E9D64A6BE61B</td>\n",
       "      <td>7729B3238384B417C4D5CFF9E8F6A4A1</td>\n",
       "      <td>1.0</td>\n",
       "      <td>8.0</td>\n",
       "      <td>...</td>\n",
       "      <td>NaN</td>\n",
       "      <td>NaN</td>\n",
       "      <td>NaN</td>\n",
       "      <td>NaN</td>\n",
       "      <td>NaN</td>\n",
       "      <td>NaN</td>\n",
       "      <td>NaN</td>\n",
       "      <td>NaN</td>\n",
       "      <td>NaN</td>\n",
       "      <td>NaN</td>\n",
       "    </tr>\n",
       "    <tr>\n",
       "      <th>1</th>\n",
       "      <td>UniProtKB reviewed (Swiss-Prot)</td>\n",
       "      <td>P30542</td>\n",
       "      <td>5.0</td>\n",
       "      <td>MPPSISAFQAAYIGIEVLIALVSVPGNVLVIWAVKVNQALRDATFC...</td>\n",
       "      <td>326</td>\n",
       "      <td>36512</td>\n",
       "      <td>1B555893BCDEC9A6</td>\n",
       "      <td>660A39956B645714DDD62FF8B4550418</td>\n",
       "      <td>1.0</td>\n",
       "      <td>8.0</td>\n",
       "      <td>...</td>\n",
       "      <td>NaN</td>\n",
       "      <td>NaN</td>\n",
       "      <td>NaN</td>\n",
       "      <td>NaN</td>\n",
       "      <td>NaN</td>\n",
       "      <td>NaN</td>\n",
       "      <td>NaN</td>\n",
       "      <td>NaN</td>\n",
       "      <td>NaN</td>\n",
       "      <td>NaN</td>\n",
       "    </tr>\n",
       "    <tr>\n",
       "      <th>2</th>\n",
       "      <td>UniProtKB reviewed (Swiss-Prot)</td>\n",
       "      <td>Q9UHD2</td>\n",
       "      <td>5.0</td>\n",
       "      <td>MQSTSNHLWLLSDILGQGATANVFRGRHKKTGDLFAIKVFNNISFL...</td>\n",
       "      <td>729</td>\n",
       "      <td>83642</td>\n",
       "      <td>B58E4FE1B502276D</td>\n",
       "      <td>EA019CF79D039A451DECE6C8A25E0050</td>\n",
       "      <td>1.0</td>\n",
       "      <td>NaN</td>\n",
       "      <td>...</td>\n",
       "      <td>NaN</td>\n",
       "      <td>NaN</td>\n",
       "      <td>NaN</td>\n",
       "      <td>NaN</td>\n",
       "      <td>NaN</td>\n",
       "      <td>NaN</td>\n",
       "      <td>NaN</td>\n",
       "      <td>NaN</td>\n",
       "      <td>NaN</td>\n",
       "      <td>NaN</td>\n",
       "    </tr>\n",
       "    <tr>\n",
       "      <th>3</th>\n",
       "      <td>UniProtKB reviewed (Swiss-Prot)</td>\n",
       "      <td>P27361</td>\n",
       "      <td>5.0</td>\n",
       "      <td>MAAAAAQGGGGGEPRRTEGVGPGVPGEVEMVKGQPFDVGPRYTQLQ...</td>\n",
       "      <td>379</td>\n",
       "      <td>43136</td>\n",
       "      <td>E6020CE413EC41F7</td>\n",
       "      <td>8501FAF469E77A9FBDC0166F5A18BCF6</td>\n",
       "      <td>1.0</td>\n",
       "      <td>NaN</td>\n",
       "      <td>...</td>\n",
       "      <td>NaN</td>\n",
       "      <td>NaN</td>\n",
       "      <td>NaN</td>\n",
       "      <td>NaN</td>\n",
       "      <td>NaN</td>\n",
       "      <td>NaN</td>\n",
       "      <td>NaN</td>\n",
       "      <td>NaN</td>\n",
       "      <td>NaN</td>\n",
       "      <td>NaN</td>\n",
       "    </tr>\n",
       "    <tr>\n",
       "      <th>4</th>\n",
       "      <td>UniProtKB reviewed (Swiss-Prot)</td>\n",
       "      <td>P43405</td>\n",
       "      <td>5.0</td>\n",
       "      <td>MASSGMADSANHLPFFFGNITREEAEDYLVQGGMSDGLYLLRQSRN...</td>\n",
       "      <td>635</td>\n",
       "      <td>72066</td>\n",
       "      <td>EAA6BDE65881FC68</td>\n",
       "      <td>17DBD30C3A3CCB7420537914A95D3F54</td>\n",
       "      <td>1.0</td>\n",
       "      <td>NaN</td>\n",
       "      <td>...</td>\n",
       "      <td>NaN</td>\n",
       "      <td>NaN</td>\n",
       "      <td>NaN</td>\n",
       "      <td>NaN</td>\n",
       "      <td>NaN</td>\n",
       "      <td>NaN</td>\n",
       "      <td>NaN</td>\n",
       "      <td>NaN</td>\n",
       "      <td>NaN</td>\n",
       "      <td>NaN</td>\n",
       "    </tr>\n",
       "  </tbody>\n",
       "</table>\n",
       "<p>5 rows × 42 columns</p>\n",
       "</div>"
      ],
      "text/plain": [
       "                         entryType primaryAccession  annotationScore  \\\n",
       "0  UniProtKB reviewed (Swiss-Prot)           P29274              5.0   \n",
       "1  UniProtKB reviewed (Swiss-Prot)           P30542              5.0   \n",
       "2  UniProtKB reviewed (Swiss-Prot)           Q9UHD2              5.0   \n",
       "3  UniProtKB reviewed (Swiss-Prot)           P27361              5.0   \n",
       "4  UniProtKB reviewed (Swiss-Prot)           P43405              5.0   \n",
       "\n",
       "                                      sequence.value  sequence.length  \\\n",
       "0  MPIMGSSVYITVELAIAVLAILGNVLVCWAVWLNSNLQNVTNYFVV...              412   \n",
       "1  MPPSISAFQAAYIGIEVLIALVSVPGNVLVIWAVKVNQALRDATFC...              326   \n",
       "2  MQSTSNHLWLLSDILGQGATANVFRGRHKKTGDLFAIKVFNNISFL...              729   \n",
       "3  MAAAAAQGGGGGEPRRTEGVGPGVPGEVEMVKGQPFDVGPRYTQLQ...              379   \n",
       "4  MASSGMADSANHLPFFFGNITREEAEDYLVQGGMSDGLYLLRQSRN...              635   \n",
       "\n",
       "   sequence.molWeight    sequence.crc64                      sequence.md5  \\\n",
       "0               44707  9438E9D64A6BE61B  7729B3238384B417C4D5CFF9E8F6A4A1   \n",
       "1               36512  1B555893BCDEC9A6  660A39956B645714DDD62FF8B4550418   \n",
       "2               83642  B58E4FE1B502276D  EA019CF79D039A451DECE6C8A25E0050   \n",
       "3               43136  E6020CE413EC41F7  8501FAF469E77A9FBDC0166F5A18BCF6   \n",
       "4               72066  EAA6BDE65881FC68  17DBD30C3A3CCB7420537914A95D3F54   \n",
       "\n",
       "   extraAttributes.countByFeatureType.Chain  \\\n",
       "0                                       1.0   \n",
       "1                                       1.0   \n",
       "2                                       1.0   \n",
       "3                                       1.0   \n",
       "4                                       1.0   \n",
       "\n",
       "   extraAttributes.countByFeatureType.Topological domain  ...  \\\n",
       "0                                                8.0      ...   \n",
       "1                                                8.0      ...   \n",
       "2                                                NaN      ...   \n",
       "3                                                NaN      ...   \n",
       "4                                                NaN      ...   \n",
       "\n",
       "   extraAttributes.countByFeatureType.Compositional bias  \\\n",
       "0                                                NaN       \n",
       "1                                                NaN       \n",
       "2                                                NaN       \n",
       "3                                                NaN       \n",
       "4                                                NaN       \n",
       "\n",
       "   extraAttributes.countByFeatureType.Propeptide  \\\n",
       "0                                            NaN   \n",
       "1                                            NaN   \n",
       "2                                            NaN   \n",
       "3                                            NaN   \n",
       "4                                            NaN   \n",
       "\n",
       "   extraAttributes.countByFeatureType.Site  \\\n",
       "0                                      NaN   \n",
       "1                                      NaN   \n",
       "2                                      NaN   \n",
       "3                                      NaN   \n",
       "4                                      NaN   \n",
       "\n",
       "   extraAttributes.countByFeatureType.Intramembrane  \\\n",
       "0                                               NaN   \n",
       "1                                               NaN   \n",
       "2                                               NaN   \n",
       "3                                               NaN   \n",
       "4                                               NaN   \n",
       "\n",
       "   extraAttributes.countByFeatureType.Zinc finger  \\\n",
       "0                                             NaN   \n",
       "1                                             NaN   \n",
       "2                                             NaN   \n",
       "3                                             NaN   \n",
       "4                                             NaN   \n",
       "\n",
       "   extraAttributes.countByFeatureType.Repeat  \\\n",
       "0                                        NaN   \n",
       "1                                        NaN   \n",
       "2                                        NaN   \n",
       "3                                        NaN   \n",
       "4                                        NaN   \n",
       "\n",
       "   extraAttributes.countByFeatureType.Transit peptide  \\\n",
       "0                                                NaN    \n",
       "1                                                NaN    \n",
       "2                                                NaN    \n",
       "3                                                NaN    \n",
       "4                                                NaN    \n",
       "\n",
       "   extraAttributes.countByFeatureType.DNA binding  \\\n",
       "0                                             NaN   \n",
       "1                                             NaN   \n",
       "2                                             NaN   \n",
       "3                                             NaN   \n",
       "4                                             NaN   \n",
       "\n",
       "   extraAttributes.countByFeatureType.Peptide  \\\n",
       "0                                         NaN   \n",
       "1                                         NaN   \n",
       "2                                         NaN   \n",
       "3                                         NaN   \n",
       "4                                         NaN   \n",
       "\n",
       "  extraAttributes.countByFeatureType.Non-terminal residue  \n",
       "0                                                NaN       \n",
       "1                                                NaN       \n",
       "2                                                NaN       \n",
       "3                                                NaN       \n",
       "4                                                NaN       \n",
       "\n",
       "[5 rows x 42 columns]"
      ]
     },
     "execution_count": 58,
     "metadata": {},
     "output_type": "execute_result"
    }
   ],
   "source": [
    "prot_features_df.head()"
   ]
  },
  {
   "cell_type": "markdown",
   "id": "a2924c44-95bf-4e91-8d13-6577baadd0af",
   "metadata": {},
   "source": [
    "since some of the extraAttributes features may not be exposed for a given set of proteins, i need to make sure that all the ones I am expecting from the full dataset are there. In this case, i only see 41 columns but I know there should be 45 for the full version"
   ]
  },
  {
   "cell_type": "code",
   "execution_count": 59,
   "id": "6f3557b4-f744-46bc-b953-aa471f5df984",
   "metadata": {},
   "outputs": [],
   "source": [
    "expected_protein_query_columns = ['primaryAccession', 'annotationScore', 'sequence.value',\n",
    "       'sequence.length', 'sequence.molWeight',\n",
    "       'extraAttributes.countByFeatureType.Chain',\n",
    "       'extraAttributes.countByFeatureType.Topological domain',\n",
    "       'extraAttributes.countByFeatureType.Transmembrane',\n",
    "       'extraAttributes.countByFeatureType.Region',\n",
    "       'extraAttributes.countByFeatureType.Binding site',\n",
    "       'extraAttributes.countByFeatureType.Glycosylation',\n",
    "       'extraAttributes.countByFeatureType.Disulfide bond',\n",
    "       'extraAttributes.countByFeatureType.Natural variant',\n",
    "       'extraAttributes.countByFeatureType.Helix',\n",
    "       'extraAttributes.countByFeatureType.Beta strand',\n",
    "       'extraAttributes.countByFeatureType.Turn',\n",
    "       'extraAttributes.countByFeatureType.Lipidation',\n",
    "       'extraAttributes.countByFeatureType.Initiator methionine',\n",
    "       'extraAttributes.countByFeatureType.Domain',\n",
    "       'extraAttributes.countByFeatureType.Active site',\n",
    "       'extraAttributes.countByFeatureType.Modified residue',\n",
    "       'extraAttributes.countByFeatureType.Alternative sequence',\n",
    "       'extraAttributes.countByFeatureType.Mutagenesis',\n",
    "       'extraAttributes.countByFeatureType.Signal',\n",
    "       'extraAttributes.countByFeatureType.Motif',\n",
    "       'extraAttributes.countByFeatureType.Compositional bias',\n",
    "       'extraAttributes.countByFeatureType.Sequence conflict',\n",
    "       'extraAttributes.countByFeatureType.Site',\n",
    "       'extraAttributes.countByFeatureType.Zinc finger',\n",
    "       'extraAttributes.countByFeatureType.Coiled coil',\n",
    "       'extraAttributes.countByFeatureType.Cross-link',\n",
    "       'extraAttributes.countByFeatureType.DNA binding',\n",
    "       'extraAttributes.countByFeatureType.Repeat',\n",
    "       'extraAttributes.countByFeatureType.Propeptide',\n",
    "       'extraAttributes.countByFeatureType.Transit peptide',\n",
    "       'extraAttributes.countByFeatureType.Peptide',\n",
    "       'extraAttributes.countByFeatureType.Intramembrane',\n",
    "       'extraAttributes.countByFeatureType.Non-terminal residue',\n",
    "       'extraAttributes.countByFeatureType.Non-standard residue',\n",
    "       'extraAttributes.countByFeatureType.Non-adjacent residues',\n",
    "       'extraAttributes.countByFeatureType.Sequence uncertainty']"
   ]
  },
  {
   "cell_type": "code",
   "execution_count": 60,
   "id": "f451405a-e829-4494-ad55-c157b943eafd",
   "metadata": {},
   "outputs": [],
   "source": [
    "for colname in expected_protein_query_columns:\n",
    "    if colname not in prot_features_df.columns:\n",
    "        prot_features_df[colname] = 0"
   ]
  },
  {
   "cell_type": "code",
   "execution_count": 61,
   "id": "a4a20709-8d87-4d17-99f5-ddad7659e5a6",
   "metadata": {},
   "outputs": [
    {
     "data": {
      "text/plain": [
       "(1225, 45)"
      ]
     },
     "execution_count": 61,
     "metadata": {},
     "output_type": "execute_result"
    }
   ],
   "source": [
    "prot_features_df.shape"
   ]
  },
  {
   "cell_type": "markdown",
   "id": "9dd927da-f76c-41f4-b7fe-8ec774051001",
   "metadata": {},
   "source": [
    "however we don't actually need some of the string features"
   ]
  },
  {
   "cell_type": "code",
   "execution_count": 62,
   "id": "a376c9b4-5564-4b05-ae3a-91b9e2031b1a",
   "metadata": {},
   "outputs": [],
   "source": [
    "prot_features_df = prot_features_df.drop(columns=['entryType',  'sequence.crc64', 'sequence.md5', 'extraAttributes.uniParcId'])"
   ]
  },
  {
   "cell_type": "code",
   "execution_count": 63,
   "id": "06a5bb45-ceac-4997-82b5-5cd527bf242a",
   "metadata": {},
   "outputs": [
    {
     "data": {
      "text/plain": [
       "(1225, 41)"
      ]
     },
     "execution_count": 63,
     "metadata": {},
     "output_type": "execute_result"
    }
   ],
   "source": [
    "prot_features_df.shape"
   ]
  },
  {
   "cell_type": "markdown",
   "id": "4ccef787-68cb-47bc-a00b-ed88af733cff",
   "metadata": {},
   "source": [
    "## 3.1 use biopython to extract additional sequence features \n",
    "I was originally hoping I would have the time and resources to do something fancy with the sequence, such as protBERT embeddings or at least some kmer-based features. However, I must admit I have a humble 2019 macbook and it was just too slow to extract the features, and I don't quite have the capacity to train a powerful model from those features anyway.\n",
    "\n",
    "Anyway, I revert to BioPython ProteinAnalaysis package"
   ]
  },
  {
   "cell_type": "code",
   "execution_count": 64,
   "id": "fa00c20d-aebc-48c2-9204-b6a7ddcf44ec",
   "metadata": {},
   "outputs": [],
   "source": [
    "from Bio.SeqUtils.ProtParam import ProteinAnalysis\n"
   ]
  },
  {
   "cell_type": "code",
   "execution_count": 65,
   "id": "ac6cf037-a215-44b2-aac7-9a50736196b9",
   "metadata": {},
   "outputs": [],
   "source": [
    "def extract_sequence_features(sequence):\n",
    "    stripped_sequence = sequence.replace('U','').replace('X', '').replace('B', 'N').replace('Z', 'Q') \n",
    "    # this is not ideal, but a few weird protein sequences break the biopython function. \n",
    "    # https://www.genome.jp/kegg/tables/br08081.html - my resource to tell me how to best replace the off-kilter amino acids\n",
    "    analysis = ProteinAnalysis(stripped_sequence)\n",
    "    \n",
    "    # Physicochemical descriptors\n",
    "    \n",
    "    aa_composition = analysis.get_amino_acids_percent()\n",
    "    molecular_weight = analysis.molecular_weight()\n",
    "    pI = analysis.isoelectric_point()\n",
    "    aromaticity = analysis.aromaticity()\n",
    "    instability_index = analysis.instability_index()\n",
    "    gravy = analysis.gravy()\n",
    "    sec_struct_fraction = analysis.secondary_structure_fraction()\n",
    "    return_dict = aa_composition\n",
    "    return_dict['protein_seq_molecular_weight'] = molecular_weight\n",
    "    return_dict['protein_seq_pI'] = pI\n",
    "    return_dict['protein_seq_aromaticity'] = aromaticity\n",
    "    return_dict['protein_seq_instability_index'] = instability_index\n",
    "    return_dict['protein_seq_gravy'] = gravy\n",
    "    return_dict['protein_seq_struct_fraction_helix'] = sec_struct_fraction[0]\n",
    "    return_dict['protein_seq_struct_fraction_turn'] = sec_struct_fraction[1]\n",
    "    return_dict['protein_seq_struct_fraction_sheet'] = sec_struct_fraction[2]\n",
    "    return return_dict"
   ]
  },
  {
   "cell_type": "code",
   "execution_count": 66,
   "id": "96d18be7-bf99-40a2-a048-2cfe1a8c09f1",
   "metadata": {},
   "outputs": [],
   "source": [
    "sequence_features = prot_features_df['sequence.value'].apply(lambda x: extract_sequence_features(x))"
   ]
  },
  {
   "cell_type": "code",
   "execution_count": 67,
   "id": "c6e34a00-3944-4301-bd3b-bae881aa2805",
   "metadata": {},
   "outputs": [],
   "source": [
    "protein_seq_features_df = pd.DataFrame(sequence_features.values.tolist())"
   ]
  },
  {
   "cell_type": "code",
   "execution_count": 68,
   "id": "0e3bf3ea-4e9d-4c98-8b99-6be4fd3540a1",
   "metadata": {},
   "outputs": [
    {
     "data": {
      "text/plain": [
       "(1225, 28)"
      ]
     },
     "execution_count": 68,
     "metadata": {},
     "output_type": "execute_result"
    }
   ],
   "source": [
    "protein_seq_features_df.shape"
   ]
  },
  {
   "cell_type": "code",
   "execution_count": 69,
   "id": "b759bea4-c4db-41e4-baa4-7a8f78d2b385",
   "metadata": {},
   "outputs": [
    {
     "data": {
      "text/html": [
       "<div>\n",
       "<style scoped>\n",
       "    .dataframe tbody tr th:only-of-type {\n",
       "        vertical-align: middle;\n",
       "    }\n",
       "\n",
       "    .dataframe tbody tr th {\n",
       "        vertical-align: top;\n",
       "    }\n",
       "\n",
       "    .dataframe thead th {\n",
       "        text-align: right;\n",
       "    }\n",
       "</style>\n",
       "<table border=\"1\" class=\"dataframe\">\n",
       "  <thead>\n",
       "    <tr style=\"text-align: right;\">\n",
       "      <th></th>\n",
       "      <th>A</th>\n",
       "      <th>C</th>\n",
       "      <th>D</th>\n",
       "      <th>E</th>\n",
       "      <th>F</th>\n",
       "      <th>G</th>\n",
       "      <th>H</th>\n",
       "      <th>I</th>\n",
       "      <th>K</th>\n",
       "      <th>L</th>\n",
       "      <th>...</th>\n",
       "      <th>W</th>\n",
       "      <th>Y</th>\n",
       "      <th>protein_seq_molecular_weight</th>\n",
       "      <th>protein_seq_pI</th>\n",
       "      <th>protein_seq_aromaticity</th>\n",
       "      <th>protein_seq_instability_index</th>\n",
       "      <th>protein_seq_gravy</th>\n",
       "      <th>protein_seq_struct_fraction_helix</th>\n",
       "      <th>protein_seq_struct_fraction_turn</th>\n",
       "      <th>protein_seq_struct_fraction_sheet</th>\n",
       "    </tr>\n",
       "  </thead>\n",
       "  <tbody>\n",
       "    <tr>\n",
       "      <th>0</th>\n",
       "      <td>0.101942</td>\n",
       "      <td>0.036408</td>\n",
       "      <td>0.021845</td>\n",
       "      <td>0.036408</td>\n",
       "      <td>0.048544</td>\n",
       "      <td>0.082524</td>\n",
       "      <td>0.026699</td>\n",
       "      <td>0.070388</td>\n",
       "      <td>0.021845</td>\n",
       "      <td>0.121359</td>\n",
       "      <td>...</td>\n",
       "      <td>0.016990</td>\n",
       "      <td>0.026699</td>\n",
       "      <td>44706.8798</td>\n",
       "      <td>8.335069</td>\n",
       "      <td>0.092233</td>\n",
       "      <td>39.562864</td>\n",
       "      <td>0.460680</td>\n",
       "      <td>0.368932</td>\n",
       "      <td>0.247573</td>\n",
       "      <td>0.279126</td>\n",
       "    </tr>\n",
       "    <tr>\n",
       "      <th>1</th>\n",
       "      <td>0.098160</td>\n",
       "      <td>0.027607</td>\n",
       "      <td>0.027607</td>\n",
       "      <td>0.033742</td>\n",
       "      <td>0.058282</td>\n",
       "      <td>0.036810</td>\n",
       "      <td>0.015337</td>\n",
       "      <td>0.095092</td>\n",
       "      <td>0.046012</td>\n",
       "      <td>0.125767</td>\n",
       "      <td>...</td>\n",
       "      <td>0.021472</td>\n",
       "      <td>0.036810</td>\n",
       "      <td>36511.3425</td>\n",
       "      <td>8.904067</td>\n",
       "      <td>0.116564</td>\n",
       "      <td>40.953405</td>\n",
       "      <td>0.700307</td>\n",
       "      <td>0.435583</td>\n",
       "      <td>0.196319</td>\n",
       "      <td>0.285276</td>\n",
       "    </tr>\n",
       "    <tr>\n",
       "      <th>2</th>\n",
       "      <td>0.049383</td>\n",
       "      <td>0.015089</td>\n",
       "      <td>0.046639</td>\n",
       "      <td>0.089163</td>\n",
       "      <td>0.038409</td>\n",
       "      <td>0.057613</td>\n",
       "      <td>0.035665</td>\n",
       "      <td>0.067215</td>\n",
       "      <td>0.075446</td>\n",
       "      <td>0.105624</td>\n",
       "      <td>...</td>\n",
       "      <td>0.009602</td>\n",
       "      <td>0.038409</td>\n",
       "      <td>83641.1580</td>\n",
       "      <td>6.319439</td>\n",
       "      <td>0.086420</td>\n",
       "      <td>45.703717</td>\n",
       "      <td>-0.347188</td>\n",
       "      <td>0.320988</td>\n",
       "      <td>0.189300</td>\n",
       "      <td>0.274348</td>\n",
       "    </tr>\n",
       "    <tr>\n",
       "      <th>3</th>\n",
       "      <td>0.068602</td>\n",
       "      <td>0.015831</td>\n",
       "      <td>0.058047</td>\n",
       "      <td>0.068602</td>\n",
       "      <td>0.034301</td>\n",
       "      <td>0.063325</td>\n",
       "      <td>0.029024</td>\n",
       "      <td>0.068602</td>\n",
       "      <td>0.055409</td>\n",
       "      <td>0.113456</td>\n",
       "      <td>...</td>\n",
       "      <td>0.007916</td>\n",
       "      <td>0.047493</td>\n",
       "      <td>43135.0670</td>\n",
       "      <td>6.280447</td>\n",
       "      <td>0.089710</td>\n",
       "      <td>43.062797</td>\n",
       "      <td>-0.313984</td>\n",
       "      <td>0.319261</td>\n",
       "      <td>0.203166</td>\n",
       "      <td>0.277045</td>\n",
       "    </tr>\n",
       "    <tr>\n",
       "      <th>4</th>\n",
       "      <td>0.070866</td>\n",
       "      <td>0.014173</td>\n",
       "      <td>0.042520</td>\n",
       "      <td>0.075591</td>\n",
       "      <td>0.029921</td>\n",
       "      <td>0.078740</td>\n",
       "      <td>0.029921</td>\n",
       "      <td>0.040945</td>\n",
       "      <td>0.077165</td>\n",
       "      <td>0.094488</td>\n",
       "      <td>...</td>\n",
       "      <td>0.017323</td>\n",
       "      <td>0.053543</td>\n",
       "      <td>72065.3676</td>\n",
       "      <td>8.431965</td>\n",
       "      <td>0.100787</td>\n",
       "      <td>40.852126</td>\n",
       "      <td>-0.537480</td>\n",
       "      <td>0.292913</td>\n",
       "      <td>0.237795</td>\n",
       "      <td>0.270866</td>\n",
       "    </tr>\n",
       "  </tbody>\n",
       "</table>\n",
       "<p>5 rows × 28 columns</p>\n",
       "</div>"
      ],
      "text/plain": [
       "          A         C         D         E         F         G         H  \\\n",
       "0  0.101942  0.036408  0.021845  0.036408  0.048544  0.082524  0.026699   \n",
       "1  0.098160  0.027607  0.027607  0.033742  0.058282  0.036810  0.015337   \n",
       "2  0.049383  0.015089  0.046639  0.089163  0.038409  0.057613  0.035665   \n",
       "3  0.068602  0.015831  0.058047  0.068602  0.034301  0.063325  0.029024   \n",
       "4  0.070866  0.014173  0.042520  0.075591  0.029921  0.078740  0.029921   \n",
       "\n",
       "          I         K         L  ...         W         Y  \\\n",
       "0  0.070388  0.021845  0.121359  ...  0.016990  0.026699   \n",
       "1  0.095092  0.046012  0.125767  ...  0.021472  0.036810   \n",
       "2  0.067215  0.075446  0.105624  ...  0.009602  0.038409   \n",
       "3  0.068602  0.055409  0.113456  ...  0.007916  0.047493   \n",
       "4  0.040945  0.077165  0.094488  ...  0.017323  0.053543   \n",
       "\n",
       "   protein_seq_molecular_weight  protein_seq_pI  protein_seq_aromaticity  \\\n",
       "0                    44706.8798        8.335069                 0.092233   \n",
       "1                    36511.3425        8.904067                 0.116564   \n",
       "2                    83641.1580        6.319439                 0.086420   \n",
       "3                    43135.0670        6.280447                 0.089710   \n",
       "4                    72065.3676        8.431965                 0.100787   \n",
       "\n",
       "   protein_seq_instability_index  protein_seq_gravy  \\\n",
       "0                      39.562864           0.460680   \n",
       "1                      40.953405           0.700307   \n",
       "2                      45.703717          -0.347188   \n",
       "3                      43.062797          -0.313984   \n",
       "4                      40.852126          -0.537480   \n",
       "\n",
       "   protein_seq_struct_fraction_helix  protein_seq_struct_fraction_turn  \\\n",
       "0                           0.368932                          0.247573   \n",
       "1                           0.435583                          0.196319   \n",
       "2                           0.320988                          0.189300   \n",
       "3                           0.319261                          0.203166   \n",
       "4                           0.292913                          0.237795   \n",
       "\n",
       "   protein_seq_struct_fraction_sheet  \n",
       "0                           0.279126  \n",
       "1                           0.285276  \n",
       "2                           0.274348  \n",
       "3                           0.277045  \n",
       "4                           0.270866  \n",
       "\n",
       "[5 rows x 28 columns]"
      ]
     },
     "execution_count": 69,
     "metadata": {},
     "output_type": "execute_result"
    }
   ],
   "source": [
    "protein_seq_features_df.head()"
   ]
  },
  {
   "cell_type": "markdown",
   "id": "768216c0-7aed-4f0c-a9c9-ba8ea79b126b",
   "metadata": {},
   "source": [
    "Now to combine sequence features with other queried features:"
   ]
  },
  {
   "cell_type": "code",
   "execution_count": 70,
   "id": "51f80544-1901-4c3d-b57f-83db8f27588e",
   "metadata": {},
   "outputs": [],
   "source": [
    "prot_features_combined_df = pd.concat([prot_features_df.reset_index(drop=True), protein_seq_features_df], axis=1)"
   ]
  },
  {
   "cell_type": "code",
   "execution_count": 71,
   "id": "6fd96f76-fada-469f-b749-7cbcf0861bcf",
   "metadata": {},
   "outputs": [
    {
     "data": {
      "text/plain": [
       "primaryAccession                                                                P29274\n",
       "annotationScore                                                                    5.0\n",
       "sequence.value                       MPIMGSSVYITVELAIAVLAILGNVLVCWAVWLNSNLQNVTNYFVV...\n",
       "sequence.length                                                                    412\n",
       "sequence.molWeight                                                               44707\n",
       "                                                           ...                        \n",
       "protein_seq_instability_index                                                39.562864\n",
       "protein_seq_gravy                                                              0.46068\n",
       "protein_seq_struct_fraction_helix                                             0.368932\n",
       "protein_seq_struct_fraction_turn                                              0.247573\n",
       "protein_seq_struct_fraction_sheet                                             0.279126\n",
       "Name: 0, Length: 69, dtype: object"
      ]
     },
     "execution_count": 71,
     "metadata": {},
     "output_type": "execute_result"
    }
   ],
   "source": [
    "prot_features_combined_df.loc[0]"
   ]
  },
  {
   "cell_type": "markdown",
   "id": "108702d0-ab58-4d74-8b79-66f3346eaf5a",
   "metadata": {},
   "source": [
    "We can drop sequence now, and rename primaryAccession back to UniProt_ID"
   ]
  },
  {
   "cell_type": "code",
   "execution_count": 72,
   "id": "7bd89107-1b26-4df6-a5cd-311afa8757ec",
   "metadata": {},
   "outputs": [],
   "source": [
    "prot_features_combined_df = prot_features_combined_df.drop(columns=['sequence.value']).rename(columns={'primaryAccession': 'UniProt_ID'})"
   ]
  },
  {
   "cell_type": "code",
   "execution_count": null,
   "id": "a7339a93-c1f2-49b7-a446-4b4fb1ea53f5",
   "metadata": {},
   "outputs": [],
   "source": []
  },
  {
   "cell_type": "code",
   "execution_count": 73,
   "id": "76c3b32e-bfda-45c2-81dc-ebf7ee3bfaf4",
   "metadata": {},
   "outputs": [
    {
     "data": {
      "text/html": [
       "<div>\n",
       "<style scoped>\n",
       "    .dataframe tbody tr th:only-of-type {\n",
       "        vertical-align: middle;\n",
       "    }\n",
       "\n",
       "    .dataframe tbody tr th {\n",
       "        vertical-align: top;\n",
       "    }\n",
       "\n",
       "    .dataframe thead th {\n",
       "        text-align: right;\n",
       "    }\n",
       "</style>\n",
       "<table border=\"1\" class=\"dataframe\">\n",
       "  <thead>\n",
       "    <tr style=\"text-align: right;\">\n",
       "      <th></th>\n",
       "      <th>UniProt_ID</th>\n",
       "      <th>annotationScore</th>\n",
       "      <th>sequence.length</th>\n",
       "      <th>sequence.molWeight</th>\n",
       "      <th>extraAttributes.countByFeatureType.Chain</th>\n",
       "      <th>extraAttributes.countByFeatureType.Topological domain</th>\n",
       "      <th>extraAttributes.countByFeatureType.Transmembrane</th>\n",
       "      <th>extraAttributes.countByFeatureType.Region</th>\n",
       "      <th>extraAttributes.countByFeatureType.Binding site</th>\n",
       "      <th>extraAttributes.countByFeatureType.Glycosylation</th>\n",
       "      <th>...</th>\n",
       "      <th>W</th>\n",
       "      <th>Y</th>\n",
       "      <th>protein_seq_molecular_weight</th>\n",
       "      <th>protein_seq_pI</th>\n",
       "      <th>protein_seq_aromaticity</th>\n",
       "      <th>protein_seq_instability_index</th>\n",
       "      <th>protein_seq_gravy</th>\n",
       "      <th>protein_seq_struct_fraction_helix</th>\n",
       "      <th>protein_seq_struct_fraction_turn</th>\n",
       "      <th>protein_seq_struct_fraction_sheet</th>\n",
       "    </tr>\n",
       "  </thead>\n",
       "  <tbody>\n",
       "    <tr>\n",
       "      <th>0</th>\n",
       "      <td>P29274</td>\n",
       "      <td>5.0</td>\n",
       "      <td>412</td>\n",
       "      <td>44707</td>\n",
       "      <td>1.0</td>\n",
       "      <td>8.0</td>\n",
       "      <td>7.0</td>\n",
       "      <td>1.0</td>\n",
       "      <td>4.0</td>\n",
       "      <td>1.0</td>\n",
       "      <td>...</td>\n",
       "      <td>0.016990</td>\n",
       "      <td>0.026699</td>\n",
       "      <td>44706.8798</td>\n",
       "      <td>8.335069</td>\n",
       "      <td>0.092233</td>\n",
       "      <td>39.562864</td>\n",
       "      <td>0.460680</td>\n",
       "      <td>0.368932</td>\n",
       "      <td>0.247573</td>\n",
       "      <td>0.279126</td>\n",
       "    </tr>\n",
       "    <tr>\n",
       "      <th>1</th>\n",
       "      <td>P30542</td>\n",
       "      <td>5.0</td>\n",
       "      <td>326</td>\n",
       "      <td>36512</td>\n",
       "      <td>1.0</td>\n",
       "      <td>8.0</td>\n",
       "      <td>7.0</td>\n",
       "      <td>NaN</td>\n",
       "      <td>NaN</td>\n",
       "      <td>1.0</td>\n",
       "      <td>...</td>\n",
       "      <td>0.021472</td>\n",
       "      <td>0.036810</td>\n",
       "      <td>36511.3425</td>\n",
       "      <td>8.904067</td>\n",
       "      <td>0.116564</td>\n",
       "      <td>40.953405</td>\n",
       "      <td>0.700307</td>\n",
       "      <td>0.435583</td>\n",
       "      <td>0.196319</td>\n",
       "      <td>0.285276</td>\n",
       "    </tr>\n",
       "    <tr>\n",
       "      <th>2</th>\n",
       "      <td>Q9UHD2</td>\n",
       "      <td>5.0</td>\n",
       "      <td>729</td>\n",
       "      <td>83642</td>\n",
       "      <td>1.0</td>\n",
       "      <td>NaN</td>\n",
       "      <td>NaN</td>\n",
       "      <td>1.0</td>\n",
       "      <td>2.0</td>\n",
       "      <td>NaN</td>\n",
       "      <td>...</td>\n",
       "      <td>0.009602</td>\n",
       "      <td>0.038409</td>\n",
       "      <td>83641.1580</td>\n",
       "      <td>6.319439</td>\n",
       "      <td>0.086420</td>\n",
       "      <td>45.703717</td>\n",
       "      <td>-0.347188</td>\n",
       "      <td>0.320988</td>\n",
       "      <td>0.189300</td>\n",
       "      <td>0.274348</td>\n",
       "    </tr>\n",
       "    <tr>\n",
       "      <th>3</th>\n",
       "      <td>P27361</td>\n",
       "      <td>5.0</td>\n",
       "      <td>379</td>\n",
       "      <td>43136</td>\n",
       "      <td>1.0</td>\n",
       "      <td>NaN</td>\n",
       "      <td>NaN</td>\n",
       "      <td>1.0</td>\n",
       "      <td>2.0</td>\n",
       "      <td>NaN</td>\n",
       "      <td>...</td>\n",
       "      <td>0.007916</td>\n",
       "      <td>0.047493</td>\n",
       "      <td>43135.0670</td>\n",
       "      <td>6.280447</td>\n",
       "      <td>0.089710</td>\n",
       "      <td>43.062797</td>\n",
       "      <td>-0.313984</td>\n",
       "      <td>0.319261</td>\n",
       "      <td>0.203166</td>\n",
       "      <td>0.277045</td>\n",
       "    </tr>\n",
       "    <tr>\n",
       "      <th>4</th>\n",
       "      <td>P43405</td>\n",
       "      <td>5.0</td>\n",
       "      <td>635</td>\n",
       "      <td>72066</td>\n",
       "      <td>1.0</td>\n",
       "      <td>NaN</td>\n",
       "      <td>NaN</td>\n",
       "      <td>2.0</td>\n",
       "      <td>2.0</td>\n",
       "      <td>NaN</td>\n",
       "      <td>...</td>\n",
       "      <td>0.017323</td>\n",
       "      <td>0.053543</td>\n",
       "      <td>72065.3676</td>\n",
       "      <td>8.431965</td>\n",
       "      <td>0.100787</td>\n",
       "      <td>40.852126</td>\n",
       "      <td>-0.537480</td>\n",
       "      <td>0.292913</td>\n",
       "      <td>0.237795</td>\n",
       "      <td>0.270866</td>\n",
       "    </tr>\n",
       "  </tbody>\n",
       "</table>\n",
       "<p>5 rows × 68 columns</p>\n",
       "</div>"
      ],
      "text/plain": [
       "  UniProt_ID  annotationScore  sequence.length  sequence.molWeight  \\\n",
       "0     P29274              5.0              412               44707   \n",
       "1     P30542              5.0              326               36512   \n",
       "2     Q9UHD2              5.0              729               83642   \n",
       "3     P27361              5.0              379               43136   \n",
       "4     P43405              5.0              635               72066   \n",
       "\n",
       "   extraAttributes.countByFeatureType.Chain  \\\n",
       "0                                       1.0   \n",
       "1                                       1.0   \n",
       "2                                       1.0   \n",
       "3                                       1.0   \n",
       "4                                       1.0   \n",
       "\n",
       "   extraAttributes.countByFeatureType.Topological domain  \\\n",
       "0                                                8.0       \n",
       "1                                                8.0       \n",
       "2                                                NaN       \n",
       "3                                                NaN       \n",
       "4                                                NaN       \n",
       "\n",
       "   extraAttributes.countByFeatureType.Transmembrane  \\\n",
       "0                                               7.0   \n",
       "1                                               7.0   \n",
       "2                                               NaN   \n",
       "3                                               NaN   \n",
       "4                                               NaN   \n",
       "\n",
       "   extraAttributes.countByFeatureType.Region  \\\n",
       "0                                        1.0   \n",
       "1                                        NaN   \n",
       "2                                        1.0   \n",
       "3                                        1.0   \n",
       "4                                        2.0   \n",
       "\n",
       "   extraAttributes.countByFeatureType.Binding site  \\\n",
       "0                                              4.0   \n",
       "1                                              NaN   \n",
       "2                                              2.0   \n",
       "3                                              2.0   \n",
       "4                                              2.0   \n",
       "\n",
       "   extraAttributes.countByFeatureType.Glycosylation  ...         W         Y  \\\n",
       "0                                               1.0  ...  0.016990  0.026699   \n",
       "1                                               1.0  ...  0.021472  0.036810   \n",
       "2                                               NaN  ...  0.009602  0.038409   \n",
       "3                                               NaN  ...  0.007916  0.047493   \n",
       "4                                               NaN  ...  0.017323  0.053543   \n",
       "\n",
       "   protein_seq_molecular_weight  protein_seq_pI  protein_seq_aromaticity  \\\n",
       "0                    44706.8798        8.335069                 0.092233   \n",
       "1                    36511.3425        8.904067                 0.116564   \n",
       "2                    83641.1580        6.319439                 0.086420   \n",
       "3                    43135.0670        6.280447                 0.089710   \n",
       "4                    72065.3676        8.431965                 0.100787   \n",
       "\n",
       "   protein_seq_instability_index  protein_seq_gravy  \\\n",
       "0                      39.562864           0.460680   \n",
       "1                      40.953405           0.700307   \n",
       "2                      45.703717          -0.347188   \n",
       "3                      43.062797          -0.313984   \n",
       "4                      40.852126          -0.537480   \n",
       "\n",
       "   protein_seq_struct_fraction_helix  protein_seq_struct_fraction_turn  \\\n",
       "0                           0.368932                          0.247573   \n",
       "1                           0.435583                          0.196319   \n",
       "2                           0.320988                          0.189300   \n",
       "3                           0.319261                          0.203166   \n",
       "4                           0.292913                          0.237795   \n",
       "\n",
       "   protein_seq_struct_fraction_sheet  \n",
       "0                           0.279126  \n",
       "1                           0.285276  \n",
       "2                           0.274348  \n",
       "3                           0.277045  \n",
       "4                           0.270866  \n",
       "\n",
       "[5 rows x 68 columns]"
      ]
     },
     "execution_count": 73,
     "metadata": {},
     "output_type": "execute_result"
    }
   ],
   "source": [
    "prot_features_combined_df.head()"
   ]
  },
  {
   "cell_type": "code",
   "execution_count": 74,
   "id": "e726f3ba-7d80-479f-9df6-5522718507b1",
   "metadata": {},
   "outputs": [
    {
     "data": {
      "text/html": [
       "<div>\n",
       "<style scoped>\n",
       "    .dataframe tbody tr th:only-of-type {\n",
       "        vertical-align: middle;\n",
       "    }\n",
       "\n",
       "    .dataframe tbody tr th {\n",
       "        vertical-align: top;\n",
       "    }\n",
       "\n",
       "    .dataframe thead th {\n",
       "        text-align: right;\n",
       "    }\n",
       "</style>\n",
       "<table border=\"1\" class=\"dataframe\">\n",
       "  <thead>\n",
       "    <tr style=\"text-align: right;\">\n",
       "      <th></th>\n",
       "      <th>UniProt_ID</th>\n",
       "      <th>annotationScore</th>\n",
       "      <th>sequence.length</th>\n",
       "      <th>sequence.molWeight</th>\n",
       "      <th>extraAttributes.countByFeatureType.Chain</th>\n",
       "      <th>extraAttributes.countByFeatureType.Topological domain</th>\n",
       "      <th>extraAttributes.countByFeatureType.Transmembrane</th>\n",
       "      <th>extraAttributes.countByFeatureType.Region</th>\n",
       "      <th>extraAttributes.countByFeatureType.Binding site</th>\n",
       "      <th>extraAttributes.countByFeatureType.Glycosylation</th>\n",
       "      <th>...</th>\n",
       "      <th>W</th>\n",
       "      <th>Y</th>\n",
       "      <th>protein_seq_molecular_weight</th>\n",
       "      <th>protein_seq_pI</th>\n",
       "      <th>protein_seq_aromaticity</th>\n",
       "      <th>protein_seq_instability_index</th>\n",
       "      <th>protein_seq_gravy</th>\n",
       "      <th>protein_seq_struct_fraction_helix</th>\n",
       "      <th>protein_seq_struct_fraction_turn</th>\n",
       "      <th>protein_seq_struct_fraction_sheet</th>\n",
       "    </tr>\n",
       "  </thead>\n",
       "  <tbody>\n",
       "    <tr>\n",
       "      <th>0</th>\n",
       "      <td>P29274</td>\n",
       "      <td>5.0</td>\n",
       "      <td>412</td>\n",
       "      <td>44707</td>\n",
       "      <td>1.0</td>\n",
       "      <td>8.0</td>\n",
       "      <td>7.0</td>\n",
       "      <td>1.0</td>\n",
       "      <td>4.0</td>\n",
       "      <td>1.0</td>\n",
       "      <td>...</td>\n",
       "      <td>0.016990</td>\n",
       "      <td>0.026699</td>\n",
       "      <td>44706.8798</td>\n",
       "      <td>8.335069</td>\n",
       "      <td>0.092233</td>\n",
       "      <td>39.562864</td>\n",
       "      <td>0.460680</td>\n",
       "      <td>0.368932</td>\n",
       "      <td>0.247573</td>\n",
       "      <td>0.279126</td>\n",
       "    </tr>\n",
       "    <tr>\n",
       "      <th>1</th>\n",
       "      <td>P30542</td>\n",
       "      <td>5.0</td>\n",
       "      <td>326</td>\n",
       "      <td>36512</td>\n",
       "      <td>1.0</td>\n",
       "      <td>8.0</td>\n",
       "      <td>7.0</td>\n",
       "      <td>NaN</td>\n",
       "      <td>NaN</td>\n",
       "      <td>1.0</td>\n",
       "      <td>...</td>\n",
       "      <td>0.021472</td>\n",
       "      <td>0.036810</td>\n",
       "      <td>36511.3425</td>\n",
       "      <td>8.904067</td>\n",
       "      <td>0.116564</td>\n",
       "      <td>40.953405</td>\n",
       "      <td>0.700307</td>\n",
       "      <td>0.435583</td>\n",
       "      <td>0.196319</td>\n",
       "      <td>0.285276</td>\n",
       "    </tr>\n",
       "    <tr>\n",
       "      <th>2</th>\n",
       "      <td>Q9UHD2</td>\n",
       "      <td>5.0</td>\n",
       "      <td>729</td>\n",
       "      <td>83642</td>\n",
       "      <td>1.0</td>\n",
       "      <td>NaN</td>\n",
       "      <td>NaN</td>\n",
       "      <td>1.0</td>\n",
       "      <td>2.0</td>\n",
       "      <td>NaN</td>\n",
       "      <td>...</td>\n",
       "      <td>0.009602</td>\n",
       "      <td>0.038409</td>\n",
       "      <td>83641.1580</td>\n",
       "      <td>6.319439</td>\n",
       "      <td>0.086420</td>\n",
       "      <td>45.703717</td>\n",
       "      <td>-0.347188</td>\n",
       "      <td>0.320988</td>\n",
       "      <td>0.189300</td>\n",
       "      <td>0.274348</td>\n",
       "    </tr>\n",
       "    <tr>\n",
       "      <th>3</th>\n",
       "      <td>P27361</td>\n",
       "      <td>5.0</td>\n",
       "      <td>379</td>\n",
       "      <td>43136</td>\n",
       "      <td>1.0</td>\n",
       "      <td>NaN</td>\n",
       "      <td>NaN</td>\n",
       "      <td>1.0</td>\n",
       "      <td>2.0</td>\n",
       "      <td>NaN</td>\n",
       "      <td>...</td>\n",
       "      <td>0.007916</td>\n",
       "      <td>0.047493</td>\n",
       "      <td>43135.0670</td>\n",
       "      <td>6.280447</td>\n",
       "      <td>0.089710</td>\n",
       "      <td>43.062797</td>\n",
       "      <td>-0.313984</td>\n",
       "      <td>0.319261</td>\n",
       "      <td>0.203166</td>\n",
       "      <td>0.277045</td>\n",
       "    </tr>\n",
       "    <tr>\n",
       "      <th>4</th>\n",
       "      <td>P43405</td>\n",
       "      <td>5.0</td>\n",
       "      <td>635</td>\n",
       "      <td>72066</td>\n",
       "      <td>1.0</td>\n",
       "      <td>NaN</td>\n",
       "      <td>NaN</td>\n",
       "      <td>2.0</td>\n",
       "      <td>2.0</td>\n",
       "      <td>NaN</td>\n",
       "      <td>...</td>\n",
       "      <td>0.017323</td>\n",
       "      <td>0.053543</td>\n",
       "      <td>72065.3676</td>\n",
       "      <td>8.431965</td>\n",
       "      <td>0.100787</td>\n",
       "      <td>40.852126</td>\n",
       "      <td>-0.537480</td>\n",
       "      <td>0.292913</td>\n",
       "      <td>0.237795</td>\n",
       "      <td>0.270866</td>\n",
       "    </tr>\n",
       "  </tbody>\n",
       "</table>\n",
       "<p>5 rows × 68 columns</p>\n",
       "</div>"
      ],
      "text/plain": [
       "  UniProt_ID  annotationScore  sequence.length  sequence.molWeight  \\\n",
       "0     P29274              5.0              412               44707   \n",
       "1     P30542              5.0              326               36512   \n",
       "2     Q9UHD2              5.0              729               83642   \n",
       "3     P27361              5.0              379               43136   \n",
       "4     P43405              5.0              635               72066   \n",
       "\n",
       "   extraAttributes.countByFeatureType.Chain  \\\n",
       "0                                       1.0   \n",
       "1                                       1.0   \n",
       "2                                       1.0   \n",
       "3                                       1.0   \n",
       "4                                       1.0   \n",
       "\n",
       "   extraAttributes.countByFeatureType.Topological domain  \\\n",
       "0                                                8.0       \n",
       "1                                                8.0       \n",
       "2                                                NaN       \n",
       "3                                                NaN       \n",
       "4                                                NaN       \n",
       "\n",
       "   extraAttributes.countByFeatureType.Transmembrane  \\\n",
       "0                                               7.0   \n",
       "1                                               7.0   \n",
       "2                                               NaN   \n",
       "3                                               NaN   \n",
       "4                                               NaN   \n",
       "\n",
       "   extraAttributes.countByFeatureType.Region  \\\n",
       "0                                        1.0   \n",
       "1                                        NaN   \n",
       "2                                        1.0   \n",
       "3                                        1.0   \n",
       "4                                        2.0   \n",
       "\n",
       "   extraAttributes.countByFeatureType.Binding site  \\\n",
       "0                                              4.0   \n",
       "1                                              NaN   \n",
       "2                                              2.0   \n",
       "3                                              2.0   \n",
       "4                                              2.0   \n",
       "\n",
       "   extraAttributes.countByFeatureType.Glycosylation  ...         W         Y  \\\n",
       "0                                               1.0  ...  0.016990  0.026699   \n",
       "1                                               1.0  ...  0.021472  0.036810   \n",
       "2                                               NaN  ...  0.009602  0.038409   \n",
       "3                                               NaN  ...  0.007916  0.047493   \n",
       "4                                               NaN  ...  0.017323  0.053543   \n",
       "\n",
       "   protein_seq_molecular_weight  protein_seq_pI  protein_seq_aromaticity  \\\n",
       "0                    44706.8798        8.335069                 0.092233   \n",
       "1                    36511.3425        8.904067                 0.116564   \n",
       "2                    83641.1580        6.319439                 0.086420   \n",
       "3                    43135.0670        6.280447                 0.089710   \n",
       "4                    72065.3676        8.431965                 0.100787   \n",
       "\n",
       "   protein_seq_instability_index  protein_seq_gravy  \\\n",
       "0                      39.562864           0.460680   \n",
       "1                      40.953405           0.700307   \n",
       "2                      45.703717          -0.347188   \n",
       "3                      43.062797          -0.313984   \n",
       "4                      40.852126          -0.537480   \n",
       "\n",
       "   protein_seq_struct_fraction_helix  protein_seq_struct_fraction_turn  \\\n",
       "0                           0.368932                          0.247573   \n",
       "1                           0.435583                          0.196319   \n",
       "2                           0.320988                          0.189300   \n",
       "3                           0.319261                          0.203166   \n",
       "4                           0.292913                          0.237795   \n",
       "\n",
       "   protein_seq_struct_fraction_sheet  \n",
       "0                           0.279126  \n",
       "1                           0.285276  \n",
       "2                           0.274348  \n",
       "3                           0.277045  \n",
       "4                           0.270866  \n",
       "\n",
       "[5 rows x 68 columns]"
      ]
     },
     "execution_count": 74,
     "metadata": {},
     "output_type": "execute_result"
    }
   ],
   "source": [
    "prot_features_combined_df.head()"
   ]
  },
  {
   "cell_type": "code",
   "execution_count": 75,
   "id": "0824fd18-d182-495f-815e-e993d524f892",
   "metadata": {},
   "outputs": [
    {
     "data": {
      "text/plain": [
       "(1225, 68)"
      ]
     },
     "execution_count": 75,
     "metadata": {},
     "output_type": "execute_result"
    }
   ],
   "source": [
    "prot_features_combined_df.shape"
   ]
  },
  {
   "cell_type": "markdown",
   "id": "212094b2-650c-4ef4-a678-3cb7887e44c5",
   "metadata": {},
   "source": [
    "# 4. Mix things together and final preparation before we do modeling"
   ]
  },
  {
   "cell_type": "code",
   "execution_count": 76,
   "id": "6fdce156-d914-44e6-a62e-d0c3d4665987",
   "metadata": {},
   "outputs": [],
   "source": [
    "combined_kiba_prot_df = test_df.merge(prot_features_combined_df, how='inner', on='UniProt_ID')"
   ]
  },
  {
   "cell_type": "code",
   "execution_count": 77,
   "id": "bb8cca0a-e62d-4f7f-a316-7225c54f8c74",
   "metadata": {},
   "outputs": [
    {
     "data": {
      "text/plain": [
       "(4827, 71)"
      ]
     },
     "execution_count": 77,
     "metadata": {},
     "output_type": "execute_result"
    }
   ],
   "source": [
    "combined_kiba_prot_df.shape"
   ]
  },
  {
   "cell_type": "code",
   "execution_count": 78,
   "id": "95b84b90-3b66-4df0-b968-275b029df303",
   "metadata": {},
   "outputs": [],
   "source": [
    "combined_kiba_prot_df['pubchem_cid'] = combined_kiba_prot_df['pubchem_cid'].astype(int)"
   ]
  },
  {
   "cell_type": "code",
   "execution_count": 79,
   "id": "a8944f7b-0fc0-4d04-87fc-506c9e8250b6",
   "metadata": {},
   "outputs": [],
   "source": [
    "chem_features_df = chem_features_df.rename(columns={'CID': 'pubchem_cid'})"
   ]
  },
  {
   "cell_type": "code",
   "execution_count": 80,
   "id": "da9e4146-d200-4f3d-b2fa-f42e516badb4",
   "metadata": {},
   "outputs": [],
   "source": [
    "combined_kiba_prot_chem_df = combined_kiba_prot_df.merge(chem_features_df, how='inner', on='pubchem_cid')"
   ]
  },
  {
   "cell_type": "code",
   "execution_count": 81,
   "id": "2312c80d-6987-4df8-bd65-97d0dae5ffbf",
   "metadata": {},
   "outputs": [
    {
     "data": {
      "text/plain": [
       "(4827, 106)"
      ]
     },
     "execution_count": 81,
     "metadata": {},
     "output_type": "execute_result"
    }
   ],
   "source": [
    "combined_kiba_prot_chem_df.shape"
   ]
  },
  {
   "cell_type": "code",
   "execution_count": 82,
   "id": "fe8011ff-ad7b-43fc-b0e4-0807f96b39c2",
   "metadata": {},
   "outputs": [
    {
     "data": {
      "text/html": [
       "<div>\n",
       "<style scoped>\n",
       "    .dataframe tbody tr th:only-of-type {\n",
       "        vertical-align: middle;\n",
       "    }\n",
       "\n",
       "    .dataframe tbody tr th {\n",
       "        vertical-align: top;\n",
       "    }\n",
       "\n",
       "    .dataframe thead th {\n",
       "        text-align: right;\n",
       "    }\n",
       "</style>\n",
       "<table border=\"1\" class=\"dataframe\">\n",
       "  <thead>\n",
       "    <tr style=\"text-align: right;\">\n",
       "      <th></th>\n",
       "      <th>UniProt_ID</th>\n",
       "      <th>pubchem_cid</th>\n",
       "      <th>kiba_score</th>\n",
       "      <th>kiba_score_estimated</th>\n",
       "      <th>annotationScore</th>\n",
       "      <th>sequence.length</th>\n",
       "      <th>sequence.molWeight</th>\n",
       "      <th>extraAttributes.countByFeatureType.Chain</th>\n",
       "      <th>extraAttributes.countByFeatureType.Topological domain</th>\n",
       "      <th>extraAttributes.countByFeatureType.Transmembrane</th>\n",
       "      <th>...</th>\n",
       "      <th>FeatureCount3D</th>\n",
       "      <th>FeatureAcceptorCount3D</th>\n",
       "      <th>FeatureDonorCount3D</th>\n",
       "      <th>FeatureAnionCount3D</th>\n",
       "      <th>FeatureCationCount3D</th>\n",
       "      <th>FeatureRingCount3D</th>\n",
       "      <th>FeatureHydrophobeCount3D</th>\n",
       "      <th>ConformerModelRMSD3D</th>\n",
       "      <th>EffectiveRotorCount3D</th>\n",
       "      <th>ConformerCount3D</th>\n",
       "    </tr>\n",
       "  </thead>\n",
       "  <tbody>\n",
       "    <tr>\n",
       "      <th>0</th>\n",
       "      <td>P13866</td>\n",
       "      <td>71454962</td>\n",
       "      <td>88.90</td>\n",
       "      <td>True</td>\n",
       "      <td>5.0</td>\n",
       "      <td>664</td>\n",
       "      <td>73498</td>\n",
       "      <td>1.0</td>\n",
       "      <td>14.0</td>\n",
       "      <td>13.0</td>\n",
       "      <td>...</td>\n",
       "      <td>15.0</td>\n",
       "      <td>5.0</td>\n",
       "      <td>5.0</td>\n",
       "      <td>0.0</td>\n",
       "      <td>0.0</td>\n",
       "      <td>3.0</td>\n",
       "      <td>2.0</td>\n",
       "      <td>1.0</td>\n",
       "      <td>8.2</td>\n",
       "      <td>10</td>\n",
       "    </tr>\n",
       "    <tr>\n",
       "      <th>1</th>\n",
       "      <td>P29274</td>\n",
       "      <td>162647388</td>\n",
       "      <td>149.00</td>\n",
       "      <td>True</td>\n",
       "      <td>5.0</td>\n",
       "      <td>412</td>\n",
       "      <td>44707</td>\n",
       "      <td>1.0</td>\n",
       "      <td>8.0</td>\n",
       "      <td>7.0</td>\n",
       "      <td>...</td>\n",
       "      <td>NaN</td>\n",
       "      <td>NaN</td>\n",
       "      <td>NaN</td>\n",
       "      <td>NaN</td>\n",
       "      <td>NaN</td>\n",
       "      <td>NaN</td>\n",
       "      <td>NaN</td>\n",
       "      <td>NaN</td>\n",
       "      <td>NaN</td>\n",
       "      <td>0</td>\n",
       "    </tr>\n",
       "    <tr>\n",
       "      <th>2</th>\n",
       "      <td>P56817</td>\n",
       "      <td>58197275</td>\n",
       "      <td>760.00</td>\n",
       "      <td>True</td>\n",
       "      <td>5.0</td>\n",
       "      <td>501</td>\n",
       "      <td>55764</td>\n",
       "      <td>1.0</td>\n",
       "      <td>2.0</td>\n",
       "      <td>1.0</td>\n",
       "      <td>...</td>\n",
       "      <td>8.0</td>\n",
       "      <td>1.0</td>\n",
       "      <td>1.0</td>\n",
       "      <td>0.0</td>\n",
       "      <td>1.0</td>\n",
       "      <td>4.0</td>\n",
       "      <td>1.0</td>\n",
       "      <td>0.6</td>\n",
       "      <td>2.8</td>\n",
       "      <td>10</td>\n",
       "    </tr>\n",
       "    <tr>\n",
       "      <th>3</th>\n",
       "      <td>Q9NYW2</td>\n",
       "      <td>53374185</td>\n",
       "      <td>38.80</td>\n",
       "      <td>True</td>\n",
       "      <td>4.0</td>\n",
       "      <td>309</td>\n",
       "      <td>35877</td>\n",
       "      <td>1.0</td>\n",
       "      <td>8.0</td>\n",
       "      <td>7.0</td>\n",
       "      <td>...</td>\n",
       "      <td>10.0</td>\n",
       "      <td>5.0</td>\n",
       "      <td>0.0</td>\n",
       "      <td>0.0</td>\n",
       "      <td>0.0</td>\n",
       "      <td>4.0</td>\n",
       "      <td>1.0</td>\n",
       "      <td>1.0</td>\n",
       "      <td>5.6</td>\n",
       "      <td>10</td>\n",
       "    </tr>\n",
       "    <tr>\n",
       "      <th>4</th>\n",
       "      <td>P14920</td>\n",
       "      <td>117693422</td>\n",
       "      <td>6.21</td>\n",
       "      <td>True</td>\n",
       "      <td>5.0</td>\n",
       "      <td>347</td>\n",
       "      <td>39474</td>\n",
       "      <td>1.0</td>\n",
       "      <td>NaN</td>\n",
       "      <td>NaN</td>\n",
       "      <td>...</td>\n",
       "      <td>7.0</td>\n",
       "      <td>2.0</td>\n",
       "      <td>2.0</td>\n",
       "      <td>0.0</td>\n",
       "      <td>0.0</td>\n",
       "      <td>2.0</td>\n",
       "      <td>1.0</td>\n",
       "      <td>0.6</td>\n",
       "      <td>4.0</td>\n",
       "      <td>10</td>\n",
       "    </tr>\n",
       "  </tbody>\n",
       "</table>\n",
       "<p>5 rows × 106 columns</p>\n",
       "</div>"
      ],
      "text/plain": [
       "  UniProt_ID  pubchem_cid  kiba_score kiba_score_estimated  annotationScore  \\\n",
       "0     P13866     71454962       88.90                 True              5.0   \n",
       "1     P29274    162647388      149.00                 True              5.0   \n",
       "2     P56817     58197275      760.00                 True              5.0   \n",
       "3     Q9NYW2     53374185       38.80                 True              4.0   \n",
       "4     P14920    117693422        6.21                 True              5.0   \n",
       "\n",
       "   sequence.length  sequence.molWeight  \\\n",
       "0              664               73498   \n",
       "1              412               44707   \n",
       "2              501               55764   \n",
       "3              309               35877   \n",
       "4              347               39474   \n",
       "\n",
       "   extraAttributes.countByFeatureType.Chain  \\\n",
       "0                                       1.0   \n",
       "1                                       1.0   \n",
       "2                                       1.0   \n",
       "3                                       1.0   \n",
       "4                                       1.0   \n",
       "\n",
       "   extraAttributes.countByFeatureType.Topological domain  \\\n",
       "0                                               14.0       \n",
       "1                                                8.0       \n",
       "2                                                2.0       \n",
       "3                                                8.0       \n",
       "4                                                NaN       \n",
       "\n",
       "   extraAttributes.countByFeatureType.Transmembrane  ...  FeatureCount3D  \\\n",
       "0                                              13.0  ...            15.0   \n",
       "1                                               7.0  ...             NaN   \n",
       "2                                               1.0  ...             8.0   \n",
       "3                                               7.0  ...            10.0   \n",
       "4                                               NaN  ...             7.0   \n",
       "\n",
       "   FeatureAcceptorCount3D  FeatureDonorCount3D  FeatureAnionCount3D  \\\n",
       "0                     5.0                  5.0                  0.0   \n",
       "1                     NaN                  NaN                  NaN   \n",
       "2                     1.0                  1.0                  0.0   \n",
       "3                     5.0                  0.0                  0.0   \n",
       "4                     2.0                  2.0                  0.0   \n",
       "\n",
       "   FeatureCationCount3D  FeatureRingCount3D  FeatureHydrophobeCount3D  \\\n",
       "0                   0.0                 3.0                       2.0   \n",
       "1                   NaN                 NaN                       NaN   \n",
       "2                   1.0                 4.0                       1.0   \n",
       "3                   0.0                 4.0                       1.0   \n",
       "4                   0.0                 2.0                       1.0   \n",
       "\n",
       "   ConformerModelRMSD3D  EffectiveRotorCount3D  ConformerCount3D  \n",
       "0                   1.0                    8.2                10  \n",
       "1                   NaN                    NaN                 0  \n",
       "2                   0.6                    2.8                10  \n",
       "3                   1.0                    5.6                10  \n",
       "4                   0.6                    4.0                10  \n",
       "\n",
       "[5 rows x 106 columns]"
      ]
     },
     "execution_count": 82,
     "metadata": {},
     "output_type": "execute_result"
    }
   ],
   "source": [
    "combined_kiba_prot_chem_df.head()"
   ]
  },
  {
   "cell_type": "markdown",
   "id": "b30f054c-fe8f-4eb0-92cf-1cba7a88403e",
   "metadata": {},
   "source": [
    "## Fill in 0 for all NA values - makes the model work better!"
   ]
  },
  {
   "cell_type": "code",
   "execution_count": 108,
   "id": "2022abd3-4c84-4f35-b067-58c8327e12ba",
   "metadata": {},
   "outputs": [
    {
     "name": "stderr",
     "output_type": "stream",
     "text": [
      "/var/folders/nm/yslfs0f104n0qtsyntj9vnq80000gn/T/ipykernel_13120/3060224436.py:1: FutureWarning: Downcasting object dtype arrays on .fillna, .ffill, .bfill is deprecated and will change in a future version. Call result.infer_objects(copy=False) instead. To opt-in to the future behavior, set `pd.set_option('future.no_silent_downcasting', True)`\n",
      "  combined_kiba_prot_chem_df = combined_kiba_prot_chem_df.fillna(0)\n"
     ]
    }
   ],
   "source": [
    "combined_kiba_prot_chem_df = combined_kiba_prot_chem_df.fillna(0)"
   ]
  },
  {
   "cell_type": "markdown",
   "id": "39b8888f-4137-4c06-840f-95e75a0c8c95",
   "metadata": {},
   "source": [
    "### as mentioned in the presentation, I think it makes more sense to predict log_kiba since it is normally distributred. unlike the raw values which are highlyt clsutered "
   ]
  },
  {
   "cell_type": "code",
   "execution_count": 109,
   "id": "ff33479a-a0c6-4a7b-858d-325bafc52f9b",
   "metadata": {},
   "outputs": [],
   "source": [
    "y = np.log(combined_kiba_prot_chem_df['kiba_score'])"
   ]
  },
  {
   "cell_type": "code",
   "execution_count": 110,
   "id": "b4458816-28f9-4034-88c8-12be6e30b92b",
   "metadata": {},
   "outputs": [],
   "source": [
    "X = combined_kiba_prot_chem_df.drop(columns=['pubchem_cid', 'UniProt_ID', 'kiba_score'])"
   ]
  },
  {
   "cell_type": "markdown",
   "id": "e8158cc8-43ad-4d44-94ea-e521ed0116bb",
   "metadata": {},
   "source": [
    "## for evaluation only - since XGBoost likes matrices instead of dataframes, I need to make sure columns are ordered exactly the same way as for my trained model"
   ]
  },
  {
   "cell_type": "code",
   "execution_count": 111,
   "id": "a7481893-dee0-4c77-9e0b-1ead39daf737",
   "metadata": {},
   "outputs": [],
   "source": [
    "correct_column_order = ['kiba_score_estimated', 'annotationScore', 'sequence.length',\n",
    "       'sequence.molWeight', 'extraAttributes.countByFeatureType.Chain',\n",
    "       'extraAttributes.countByFeatureType.Topological domain',\n",
    "       'extraAttributes.countByFeatureType.Transmembrane',\n",
    "       'extraAttributes.countByFeatureType.Region',\n",
    "       'extraAttributes.countByFeatureType.Binding site',\n",
    "       'extraAttributes.countByFeatureType.Glycosylation',\n",
    "       'extraAttributes.countByFeatureType.Disulfide bond',\n",
    "       'extraAttributes.countByFeatureType.Natural variant',\n",
    "       'extraAttributes.countByFeatureType.Helix',\n",
    "       'extraAttributes.countByFeatureType.Beta strand',\n",
    "       'extraAttributes.countByFeatureType.Turn',\n",
    "       'extraAttributes.countByFeatureType.Lipidation',\n",
    "       'extraAttributes.countByFeatureType.Initiator methionine',\n",
    "       'extraAttributes.countByFeatureType.Domain',\n",
    "       'extraAttributes.countByFeatureType.Active site',\n",
    "       'extraAttributes.countByFeatureType.Modified residue',\n",
    "       'extraAttributes.countByFeatureType.Alternative sequence',\n",
    "       'extraAttributes.countByFeatureType.Mutagenesis',\n",
    "       'extraAttributes.countByFeatureType.Signal',\n",
    "       'extraAttributes.countByFeatureType.Motif',\n",
    "       'extraAttributes.countByFeatureType.Compositional bias',\n",
    "       'extraAttributes.countByFeatureType.Sequence conflict',\n",
    "       'extraAttributes.countByFeatureType.Site',\n",
    "       'extraAttributes.countByFeatureType.Zinc finger',\n",
    "       'extraAttributes.countByFeatureType.Coiled coil',\n",
    "       'extraAttributes.countByFeatureType.Cross-link',\n",
    "       'extraAttributes.countByFeatureType.DNA binding',\n",
    "       'extraAttributes.countByFeatureType.Repeat',\n",
    "       'extraAttributes.countByFeatureType.Propeptide',\n",
    "       'extraAttributes.countByFeatureType.Transit peptide',\n",
    "       'extraAttributes.countByFeatureType.Peptide',\n",
    "       'extraAttributes.countByFeatureType.Intramembrane',\n",
    "       'extraAttributes.countByFeatureType.Non-terminal residue',\n",
    "       'extraAttributes.countByFeatureType.Non-standard residue',\n",
    "       'extraAttributes.countByFeatureType.Non-adjacent residues',\n",
    "       'extraAttributes.countByFeatureType.Sequence uncertainty', 'A',\n",
    "       'C', 'D', 'E', 'F', 'G', 'H', 'I', 'K', 'L', 'M', 'N', 'P', 'Q',\n",
    "       'R', 'S', 'T', 'V', 'W', 'Y', 'protein_seq_molecular_weight',\n",
    "       'protein_seq_pI', 'protein_seq_aromaticity',\n",
    "       'protein_seq_instability_index', 'protein_seq_gravy',\n",
    "       'protein_seq_struct_fraction_helix',\n",
    "       'protein_seq_struct_fraction_turn',\n",
    "       'protein_seq_struct_fraction_sheet', 'XLogP', 'ExactMass',\n",
    "       'MonoisotopicMass', 'TPSA', 'Complexity', 'Charge',\n",
    "       'HBondDonorCount', 'HBondAcceptorCount', 'RotatableBondCount',\n",
    "       'HeavyAtomCount', 'IsotopeAtomCount', 'AtomStereoCount',\n",
    "       'DefinedAtomStereoCount', 'UndefinedAtomStereoCount',\n",
    "       'BondStereoCount', 'DefinedBondStereoCount',\n",
    "       'UndefinedBondStereoCount', 'CovalentUnitCount', 'PatentCount',\n",
    "       'PatentFamilyCount', 'LiteratureCount', 'Volume3D',\n",
    "       'XStericQuadrupole3D', 'YStericQuadrupole3D',\n",
    "       'ZStericQuadrupole3D', 'FeatureCount3D', 'FeatureAcceptorCount3D',\n",
    "       'FeatureDonorCount3D', 'FeatureAnionCount3D',\n",
    "       'FeatureCationCount3D', 'FeatureRingCount3D',\n",
    "       'FeatureHydrophobeCount3D', 'ConformerModelRMSD3D',\n",
    "       'EffectiveRotorCount3D', 'ConformerCount3D']"
   ]
  },
  {
   "cell_type": "code",
   "execution_count": 112,
   "id": "e825be9d-795c-4cf2-9482-04e1147c654f",
   "metadata": {},
   "outputs": [
    {
     "data": {
      "text/plain": [
       "103"
      ]
     },
     "execution_count": 112,
     "metadata": {},
     "output_type": "execute_result"
    }
   ],
   "source": [
    "len(correct_column_order)"
   ]
  },
  {
   "cell_type": "markdown",
   "id": "d18780d5-5371-4698-bc5a-2ecd4978d9a4",
   "metadata": {},
   "source": [
    "going to do a sanity check here to make sure all columns are available. I will fill with zeros if not"
   ]
  },
  {
   "cell_type": "code",
   "execution_count": 113,
   "id": "803282e1-6f5a-4cb7-92fd-208c278465a3",
   "metadata": {},
   "outputs": [],
   "source": [
    "for colname in correct_column_order:\n",
    "    if colname not in X.columns:\n",
    "        print('cannot find ',colname,' filling with zeros')\n",
    "        X[colname] = 0\n"
   ]
  },
  {
   "cell_type": "code",
   "execution_count": 114,
   "id": "3bc3bb1c-a6b5-43cb-94ac-2c909d8dc0ab",
   "metadata": {},
   "outputs": [],
   "source": [
    "X = X[correct_column_order]"
   ]
  },
  {
   "cell_type": "code",
   "execution_count": 115,
   "id": "7646b023-534a-4697-b48f-e4955dbd51d9",
   "metadata": {},
   "outputs": [
    {
     "data": {
      "text/plain": [
       "(4827, 103)"
      ]
     },
     "execution_count": 115,
     "metadata": {},
     "output_type": "execute_result"
    }
   ],
   "source": [
    "X.shape"
   ]
  },
  {
   "cell_type": "code",
   "execution_count": 116,
   "id": "d33c20e9-2bdd-47de-8c94-024879c3254c",
   "metadata": {},
   "outputs": [
    {
     "data": {
      "text/plain": [
       "kiba_score_estimated                         True\n",
       "annotationScore                               5.0\n",
       "sequence.length                               664\n",
       "sequence.molWeight                          73498\n",
       "extraAttributes.countByFeatureType.Chain      1.0\n",
       "                                            ...  \n",
       "FeatureRingCount3D                            3.0\n",
       "FeatureHydrophobeCount3D                      2.0\n",
       "ConformerModelRMSD3D                          1.0\n",
       "EffectiveRotorCount3D                         8.2\n",
       "ConformerCount3D                               10\n",
       "Name: 0, Length: 103, dtype: object"
      ]
     },
     "execution_count": 116,
     "metadata": {},
     "output_type": "execute_result"
    }
   ],
   "source": [
    "X.loc[0]"
   ]
  },
  {
   "cell_type": "code",
   "execution_count": 117,
   "id": "4ec66992-a384-400a-acd2-c565e46e4f24",
   "metadata": {},
   "outputs": [
    {
     "data": {
      "text/plain": [
       "array([True, 5.0, 664, 73498, 1.0, 14.0, 13.0, 0.0, 1.0, 1.0, 4.0, 25.0,\n",
       "       34.0, 7.0, 11.0, 0.0, 0.0, 0.0, 0.0, 1.0, 1.0, 23.0, 0.0, 0.0, 0.0,\n",
       "       1.0, 3.0, 0.0, 0.0, 0.0, 0.0, 0.0, 0.0, 0.0, 0.0, 1.0, 0.0, 0, 0,\n",
       "       0, 0.07530120481927711, 0.022590361445783132, 0.025602409638554216,\n",
       "       0.04819277108433735, 0.05572289156626506, 0.08132530120481928,\n",
       "       0.01355421686746988, 0.10090361445783133, 0.04216867469879518,\n",
       "       0.10993975903614457, 0.04066265060240964, 0.025602409638554216,\n",
       "       0.04066265060240964, 0.01957831325301205, 0.03463855421686747,\n",
       "       0.06475903614457831, 0.06626506024096386, 0.07379518072289157,\n",
       "       0.02108433734939759, 0.03765060240963856, 73497.2109,\n",
       "       7.819193077087403, 0.11445783132530121, 40.47605421686748,\n",
       "       0.5632530120481928, 0.3990963855421687, 0.21234939759036145,\n",
       "       0.2740963855421687, 2.3, 406.21038668, 406.21038668, 128.0, 502.0,\n",
       "       0, 5, 7, 7, 29, 0, 5, 5, 0, 0, 0, 0, 1, 0, 0, 0, 311.5, 7.86, 5.88,\n",
       "       1.84, 15.0, 5.0, 5.0, 0.0, 0.0, 3.0, 2.0, 1.0, 8.2, 10],\n",
       "      dtype=object)"
      ]
     },
     "execution_count": 117,
     "metadata": {},
     "output_type": "execute_result"
    }
   ],
   "source": [
    "X.loc[0].values"
   ]
  },
  {
   "cell_type": "markdown",
   "id": "60cf7420-5441-4417-979c-bdaf0d60400e",
   "metadata": {},
   "source": [
    "### all numeric features! Lets go!"
   ]
  },
  {
   "cell_type": "markdown",
   "id": "8bb2a345-5fac-4ba8-8e98-8b6adea98085",
   "metadata": {},
   "source": [
    "# 5. Model Evaluation\n",
    "\n",
    "I tried several approaches (you can see a much more rough version of my work in a supplemental notebook that I will include).\n",
    "\n",
    "I found that an XGBoost regressor worked the best out of the models that I tried by far. Here I will just skip to the model with the paramters that I find best"
   ]
  },
  {
   "cell_type": "code",
   "execution_count": 91,
   "id": "d703dc7b-93e1-49ad-a368-de7c15e57ac6",
   "metadata": {},
   "outputs": [],
   "source": [
    "from sklearn.metrics import mean_squared_error, r2_score\n",
    "from xgboost import XGBRegressor"
   ]
  },
  {
   "cell_type": "code",
   "execution_count": 93,
   "id": "7680b75f-9fb2-4c2a-8985-37a8e502ad32",
   "metadata": {},
   "outputs": [],
   "source": [
    "import xgboost as xgb"
   ]
  },
  {
   "cell_type": "code",
   "execution_count": 95,
   "id": "7d6e55f4-79c1-4c66-b127-b59f37f8c59c",
   "metadata": {},
   "outputs": [],
   "source": [
    "reg = XGBRegressor(\n",
    "    max_depth=15,\n",
    ")"
   ]
  },
  {
   "cell_type": "code",
   "execution_count": 97,
   "id": "45724e0a-9598-4585-9dc7-53876e39940e",
   "metadata": {},
   "outputs": [],
   "source": [
    "reg.load_model('collateral/best_fit_xgb_reg_model.json')"
   ]
  },
  {
   "cell_type": "code",
   "execution_count": 118,
   "id": "39a22b2b-c092-46be-a5ec-c8a1a3434f48",
   "metadata": {},
   "outputs": [],
   "source": [
    "y_pred = reg.predict(X.values)"
   ]
  },
  {
   "cell_type": "code",
   "execution_count": 119,
   "id": "41f6f702-5e50-4f39-ad61-58f7377e0195",
   "metadata": {},
   "outputs": [
    {
     "data": {
      "text/plain": [
       "0.7941517429549794"
      ]
     },
     "execution_count": 119,
     "metadata": {},
     "output_type": "execute_result"
    }
   ],
   "source": [
    "r2_score(y, y_pred)"
   ]
  },
  {
   "cell_type": "code",
   "execution_count": 120,
   "id": "d4defd1d-66be-4df6-b478-f92c8d09efa6",
   "metadata": {},
   "outputs": [
    {
     "data": {
      "text/plain": [
       "2.3077202474278464"
      ]
     },
     "execution_count": 120,
     "metadata": {},
     "output_type": "execute_result"
    }
   ],
   "source": [
    "mean_squared_error(y, y_pred)"
   ]
  },
  {
   "cell_type": "code",
   "execution_count": 121,
   "id": "3e12d3db-27e9-46be-b209-3a6abba5a051",
   "metadata": {},
   "outputs": [
    {
     "data": {
      "image/png": "[encoded data removed]",
      "text/plain": [
       "<Figure size 640x480 with 1 Axes>"
      ]
     },
     "metadata": {},
     "output_type": "display_data"
    }
   ],
   "source": [
    "plt.plot(y_pred, y, 'ok', alpha=0.5)\n",
    "plt.xlabel('predicted log kiba score')\n",
    "plt.ylabel('true log kiba score')\n",
    "plt.show()"
   ]
  },
  {
   "cell_type": "markdown",
   "id": "61199637-bfa7-4dce-ad49-1f00f64511ea",
   "metadata": {},
   "source": [
    "If you insist on evaluating based on linear values.. "
   ]
  },
  {
   "cell_type": "code",
   "execution_count": 123,
   "id": "f69fe410-7a0e-404a-baef-f66ca7ae17f9",
   "metadata": {},
   "outputs": [
    {
     "data": {
      "text/plain": [
       "0.7989874986900678"
      ]
     },
     "execution_count": 123,
     "metadata": {},
     "output_type": "execute_result"
    }
   ],
   "source": [
    "r2_score(np.exp(y), np.exp(y_pred))"
   ]
  },
  {
   "cell_type": "code",
   "execution_count": 124,
   "id": "487b7900-d355-4f82-bd89-172933e6c180",
   "metadata": {},
   "outputs": [
    {
     "data": {
      "text/plain": [
       "37193233200.61083"
      ]
     },
     "execution_count": 124,
     "metadata": {},
     "output_type": "execute_result"
    }
   ],
   "source": [
    "mean_squared_error(np.exp(y), np.exp(y_pred))"
   ]
  },
  {
   "cell_type": "code",
   "execution_count": null,
   "id": "701df0b4-8237-4012-9e4b-fb8c3e27e169",
   "metadata": {},
   "outputs": [],
   "source": []
  }
 ],
 "metadata": {
  "kernelspec": {
   "display_name": "Python 3 (ipykernel)",
   "language": "python",
   "name": "python3"
  },
  "language_info": {
   "codemirror_mode": {
    "name": "ipython",
    "version": 3
   },
   "file_extension": ".py",
   "mimetype": "text/x-python",
   "name": "python",
   "nbconvert_exporter": "python",
   "pygments_lexer": "ipython3",
   "version": "3.12.2"
  }
 },
 "nbformat": 4,
 "nbformat_minor": 5
}
